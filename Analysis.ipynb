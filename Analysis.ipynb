{
 "cells": [
  {
   "cell_type": "code",
   "execution_count": 1847,
   "metadata": {},
   "outputs": [],
   "source": [
    "from fastai.imports import *\n",
    "from fastai.version import *\n",
    "\n",
    "from sklearn.ensemble import RandomForestRegressor, RandomForestClassifier\n",
    "from sklearn import metrics\n",
    "\n",
    "import seaborn as sns\n",
    "import pandas as pd\n",
    "import numpy as np\n",
    "import seaborn as sns\n",
    "import matplotlib.pyplot as plt"
   ]
  },
  {
   "cell_type": "code",
   "execution_count": 1848,
   "metadata": {},
   "outputs": [],
   "source": [
    "def rmse(x,y): return math.sqrt(((x-y)**2).mean())\n",
    "\n",
    "def print_score(m):\n",
    "    res = [rmse(m.predict(X_train), y_train), rmse(m.predict(X_test), y_test),\n",
    "                m.score(X_train, y_train), m.score(X_test, y_test)]\n",
    "    if hasattr(m, 'oob_score_'): res.append(m.oob_score_)\n",
    "    print(res)"
   ]
  },
  {
   "cell_type": "code",
   "execution_count": 1849,
   "metadata": {},
   "outputs": [
    {
     "name": "stdout",
     "output_type": "stream",
     "text": [
      "The autoreload extension is already loaded. To reload it, use:\n",
      "  %reload_ext autoreload\n"
     ]
    }
   ],
   "source": [
    "%load_ext autoreload\n",
    "%autoreload 2\n",
    "\n",
    "%matplotlib inline"
   ]
  },
  {
   "cell_type": "code",
   "execution_count": 1850,
   "metadata": {},
   "outputs": [],
   "source": [
    "PATH = \"data/\""
   ]
  },
  {
   "cell_type": "code",
   "execution_count": 1851,
   "metadata": {},
   "outputs": [
    {
     "name": "stdout",
     "output_type": "stream",
     "text": [
      "\u001b[31msample_submission.csv\u001b[m\u001b[m \u001b[31mtest.csv\u001b[m\u001b[m              \u001b[31mtrain.csv\u001b[m\u001b[m\r\n"
     ]
    }
   ],
   "source": [
    "!ls {PATH}"
   ]
  },
  {
   "cell_type": "code",
   "execution_count": 1852,
   "metadata": {},
   "outputs": [
    {
     "name": "stdout",
     "output_type": "stream",
     "text": [
      "head: Error reading data/\r\n"
     ]
    }
   ],
   "source": [
    "!head -n 1 {PATH}"
   ]
  },
  {
   "cell_type": "code",
   "execution_count": 1853,
   "metadata": {},
   "outputs": [],
   "source": [
    "train_df = pd.read_csv(f'{PATH}train.csv', low_memory=False, \n",
    "                     parse_dates=[\"release_date\"])\n",
    "test_df = pd.read_csv(f'{PATH}test.csv', low_memory=False, \n",
    "                     parse_dates=[\"release_date\"])\n",
    "ids = test_df[\"id\"]"
   ]
  },
  {
   "cell_type": "markdown",
   "metadata": {},
   "source": [
    "# 1. Preprocessing"
   ]
  },
  {
   "cell_type": "markdown",
   "metadata": {},
   "source": [
    "### 1.1 \"belongs_to_collection\""
   ]
  },
  {
   "cell_type": "code",
   "execution_count": 1854,
   "metadata": {},
   "outputs": [],
   "source": [
    "import re\n",
    "def col_cleaner(dic):\n",
    "    lst = []\n",
    "    for k,v in dic.items():\n",
    "        if str(type(v)) == \"<class 'str'>\":\n",
    "            row = re.search('name\\\\s*([^\",]*)' , v)\n",
    "            row = row.group()\n",
    "            row = re.sub('[^A-Za-z0-9]+', '', row)\n",
    "            row = row.replace('name', \"\")\n",
    "            lst.append(row)\n",
    "        else:\n",
    "            row = np.nan\n",
    "            lst.append(row)\n",
    "    return lst"
   ]
  },
  {
   "cell_type": "code",
   "execution_count": 1855,
   "metadata": {},
   "outputs": [],
   "source": [
    "train_df[\"belongs_to_collection\"] = col_cleaner(train_df[\"belongs_to_collection\"])\n",
    "test_df[\"belongs_to_collection\"] = col_cleaner(test_df[\"belongs_to_collection\"])"
   ]
  },
  {
   "cell_type": "code",
   "execution_count": 1856,
   "metadata": {},
   "outputs": [],
   "source": [
    "lst = []\n",
    "for row in train_df[\"belongs_to_collection\"]:\n",
    "    if str(type(row)) == \"<class 'float'>\":\n",
    "        row = 0\n",
    "        lst.append(row)\n",
    "    else:\n",
    "        row = 1\n",
    "        lst.append(row)\n",
    "lst = pd.Series(lst)\n",
    "train_df[\"belongs_to_collection\"] = lst"
   ]
  },
  {
   "cell_type": "code",
   "execution_count": 1857,
   "metadata": {},
   "outputs": [],
   "source": [
    "lst = []\n",
    "for row in test_df[\"belongs_to_collection\"]:\n",
    "    if str(type(row)) == \"<class 'float'>\":\n",
    "        row = 0\n",
    "        lst.append(row)\n",
    "    else:\n",
    "        row = 1\n",
    "        lst.append(row)\n",
    "lst = pd.Series(lst)\n",
    "test_df[\"belongs_to_collection\"] = lst"
   ]
  },
  {
   "cell_type": "code",
   "execution_count": 1858,
   "metadata": {},
   "outputs": [
    {
     "name": "stdout",
     "output_type": "stream",
     "text": [
      "TRAIN\n",
      "The column has (2,) total categories\n",
      "The column has 0 missing rows\n",
      "0.7986666666666666 of the column is composed by one value\n",
      "TEST\n",
      "The column has (2,) total categories\n",
      "The column has 0 missing rows\n",
      "0.8005911778080946 of the column is composed by one value\n"
     ]
    }
   ],
   "source": [
    "print(\"TRAIN\")\n",
    "print(f\"The column has {train_df['belongs_to_collection'].unique().shape} total categories\")\n",
    "print(f\"The column has {train_df['belongs_to_collection'].isnull().sum()} missing rows\")\n",
    "print(f\"{train_df['belongs_to_collection'].value_counts().max()/len(train_df['belongs_to_collection'])} of the column is composed by one value\")\n",
    "\n",
    "\n",
    "print(\"TEST\")\n",
    "print(f\"The column has {test_df['belongs_to_collection'].unique().shape} total categories\")\n",
    "print(f\"The column has {test_df['belongs_to_collection'].isnull().sum()} missing rows\")\n",
    "print(f\"{test_df['belongs_to_collection'].value_counts().max()/len(test_df['belongs_to_collection'])} of the column is composed by one value\")"
   ]
  },
  {
   "cell_type": "markdown",
   "metadata": {},
   "source": [
    "### 1.2 budget"
   ]
  },
  {
   "cell_type": "code",
   "execution_count": 1859,
   "metadata": {},
   "outputs": [
    {
     "data": {
      "text/plain": [
       "0           812\n",
       "15000000     72\n",
       "40000000     71\n",
       "25000000     71\n",
       "20000000     68\n",
       "Name: budget, dtype: int64"
      ]
     },
     "execution_count": 1859,
     "metadata": {},
     "output_type": "execute_result"
    }
   ],
   "source": [
    "train_df['budget'].value_counts().head()"
   ]
  },
  {
   "cell_type": "markdown",
   "metadata": {},
   "source": [
    "We notice that quiet a sizable chunck of the dataset has 0 as a budget value. Let's analyse this in more depth"
   ]
  },
  {
   "cell_type": "markdown",
   "metadata": {},
   "source": [
    "Let's further analyse the relationship between budget and revenue."
   ]
  },
  {
   "cell_type": "code",
   "execution_count": 1860,
   "metadata": {},
   "outputs": [],
   "source": [
    "lst = []\n",
    "for row in train_df[\"budget\"]:\n",
    "    row = int(row)\n",
    "    if row == 0:\n",
    "        row = 1\n",
    "        lst.append(row)\n",
    "    else:\n",
    "        row = 0\n",
    "        lst.append(row)\n",
    "train_df[\"budget_is_zero\"] = lst"
   ]
  },
  {
   "cell_type": "code",
   "execution_count": 1861,
   "metadata": {},
   "outputs": [],
   "source": [
    "lst = []\n",
    "for row in test_df[\"budget\"]:\n",
    "    row = int(row)\n",
    "    if row == 0:\n",
    "        row = 1\n",
    "        lst.append(row)\n",
    "    else:\n",
    "        row = 0\n",
    "        lst.append(row)\n",
    "test_df[\"budget_is_zero\"] = lst"
   ]
  },
  {
   "cell_type": "code",
   "execution_count": 1862,
   "metadata": {},
   "outputs": [
    {
     "name": "stderr",
     "output_type": "stream",
     "text": [
      "/anaconda3/lib/python3.6/site-packages/scipy/stats/stats.py:1713: FutureWarning: Using a non-tuple sequence for multidimensional indexing is deprecated; use `arr[tuple(seq)]` instead of `arr[seq]`. In the future this will be interpreted as an array index, `arr[np.array(seq)]`, which will result either in an error or a different result.\n",
      "  return np.add.reduce(sorted[indexer] * weights, axis=axis) / sumval\n"
     ]
    },
    {
     "data": {
      "image/png": "[encoded data removed]",
      "text/plain": [
       "<Figure size 1296x648 with 6 Axes>"
      ]
     },
     "metadata": {},
     "output_type": "display_data"
    }
   ],
   "source": [
    "sns.set(style=\"ticks\")\n",
    "ax = sns.pairplot(train_df[[\"budget\", \"revenue\"]], size=4.5, aspect=2,   diag_kind= \"kde\")\n",
    "plt.show()"
   ]
  },
  {
   "cell_type": "markdown",
   "metadata": {},
   "source": [
    "As we would expect a higher budget leads to a higher revenue. Thus, more spending on the movie (not always) in general leads to higher Revenue. However, we still have not dealt with the problem of the budget values. Indeed, if we log the budget these values will result in an error:"
   ]
  },
  {
   "cell_type": "code",
   "execution_count": 1863,
   "metadata": {},
   "outputs": [
    {
     "name": "stderr",
     "output_type": "stream",
     "text": [
      "/anaconda3/lib/python3.6/site-packages/ipykernel_launcher.py:1: RuntimeWarning: divide by zero encountered in log\n",
      "  \"\"\"Entry point for launching an IPython kernel.\n",
      "/anaconda3/lib/python3.6/site-packages/ipykernel_launcher.py:2: RuntimeWarning: divide by zero encountered in log\n",
      "  \n"
     ]
    }
   ],
   "source": [
    "train_df[\"budget\"] = np.log(train_df[\"budget\"])\n",
    "test_df[\"budget\"] = np.log(test_df[\"budget\"])"
   ]
  },
  {
   "cell_type": "code",
   "execution_count": 1864,
   "metadata": {},
   "outputs": [
    {
     "name": "stderr",
     "output_type": "stream",
     "text": [
      "/anaconda3/lib/python3.6/site-packages/scipy/stats/stats.py:1713: FutureWarning: Using a non-tuple sequence for multidimensional indexing is deprecated; use `arr[tuple(seq)]` instead of `arr[seq]`. In the future this will be interpreted as an array index, `arr[np.array(seq)]`, which will result either in an error or a different result.\n",
      "  return np.add.reduce(sorted[indexer] * weights, axis=axis) / sumval\n"
     ]
    },
    {
     "data": {
      "image/png": "[encoded data removed]",
      "text/plain": [
       "<Figure size 1296x648 with 6 Axes>"
      ]
     },
     "metadata": {},
     "output_type": "display_data"
    }
   ],
   "source": [
    "sns.set(style=\"ticks\")\n",
    "ax = sns.pairplot(train_df[[\"budget\", \"revenue\"]], size=4.5, aspect=2,   diag_kind= \"kde\")\n",
    "plt.show()"
   ]
  },
  {
   "cell_type": "code",
   "execution_count": 1865,
   "metadata": {},
   "outputs": [],
   "source": [
    "lst = []\n",
    "for row in train_df[\"budget\"]:\n",
    "    if row == -np.inf:\n",
    "        row = 0\n",
    "        lst.append(row)\n",
    "    else: \n",
    "        lst.append(row)\n",
    "train_df[\"budget\"] = lst"
   ]
  },
  {
   "cell_type": "code",
   "execution_count": 1866,
   "metadata": {},
   "outputs": [],
   "source": [
    "lst = []\n",
    "for row in test_df[\"budget\"]:\n",
    "    if row == -np.inf:\n",
    "        row = 0\n",
    "        lst.append(row)\n",
    "    else: \n",
    "        lst.append(row)\n",
    "test_df[\"budget\"] = lst"
   ]
  },
  {
   "cell_type": "code",
   "execution_count": 1867,
   "metadata": {},
   "outputs": [
    {
     "data": {
      "text/plain": [
       "0    16.454568\n",
       "1    17.504390\n",
       "2    15.009433\n",
       "3    13.997832\n",
       "4     0.000000\n",
       "Name: budget, dtype: float64"
      ]
     },
     "execution_count": 1867,
     "metadata": {},
     "output_type": "execute_result"
    }
   ],
   "source": [
    "train_df[\"budget\"].head()"
   ]
  },
  {
   "cell_type": "markdown",
   "metadata": {},
   "source": [
    "Overall we decide to keep the log values of the budget, altough a lot of entries are stored as 0."
   ]
  },
  {
   "cell_type": "markdown",
   "metadata": {},
   "source": [
    "### 1.3 \"genres\""
   ]
  },
  {
   "cell_type": "code",
   "execution_count": 1868,
   "metadata": {},
   "outputs": [],
   "source": [
    "def genres_preprocessing(elem):\n",
    "    string = str(elem)\n",
    "    str1 = string.replace(']','').replace('[','').replace('{','').replace('}','').replace('\\'','').replace(' ','').replace(\"name\", \"\").replace(\"id\", \"\").replace(\":\", \"\")\n",
    "    ll = str1.split(\",\")[1::2]\n",
    "    return ll\n",
    "\n",
    "train_df[\"genres\"] = train_df.genres.apply(lambda elem: genres_preprocessing(elem))\n",
    "test_df[\"genres\"] = test_df.genres.apply(lambda elem: genres_preprocessing(elem))\n"
   ]
  },
  {
   "cell_type": "code",
   "execution_count": 1869,
   "metadata": {},
   "outputs": [],
   "source": [
    "genre_per_movie = []\n",
    "for row in train_df[\"genres\"]:\n",
    "    if len(row) == 0:\n",
    "        row = \"0-genere\"\n",
    "        genre_per_movie.append(row)\n",
    "    elif len(row) == 1:\n",
    "        row = \"1-genere\"\n",
    "        genre_per_movie.append(row)\n",
    "    elif len(row) == 2:\n",
    "        row = \"2-genere\"\n",
    "        genre_per_movie.append(row)\n",
    "    elif len(row) == 3:\n",
    "        row = \"3-genere\"\n",
    "        genre_per_movie.append(row)\n",
    "    elif len(row) == 4:\n",
    "        row = \"4-genere\"\n",
    "        genre_per_movie.append(row)\n",
    "    elif len(row) == 5:\n",
    "        row = \"5-genere\"\n",
    "        genre_per_movie.append(row)\n",
    "    else:\n",
    "        row = \"6-genere\"\n",
    "        genre_per_movie.append(row)\n",
    "\n",
    "train_df[\"genre_count\"] = genre_per_movie"
   ]
  },
  {
   "cell_type": "code",
   "execution_count": 1870,
   "metadata": {},
   "outputs": [],
   "source": [
    "genre_per_movie = []\n",
    "for row in test_df[\"genres\"]:\n",
    "    if len(row) == 0:\n",
    "        row = \"0-genere\"\n",
    "        genre_per_movie.append(row)\n",
    "    elif len(row) == 1:\n",
    "        row = \"1-genere\"\n",
    "        genre_per_movie.append(row)\n",
    "    elif len(row) == 2:\n",
    "        row = \"2-genere\"\n",
    "        genre_per_movie.append(row)\n",
    "    elif len(row) == 3:\n",
    "        row = \"3-genere\"\n",
    "        genre_per_movie.append(row)\n",
    "    elif len(row) == 4:\n",
    "        row = \"4-genere\"\n",
    "        genre_per_movie.append(row)\n",
    "    elif len(row) == 5:\n",
    "        row = \"5-genere\"\n",
    "        genre_per_movie.append(row)\n",
    "    else:\n",
    "        row = \"6-genere\"\n",
    "        genre_per_movie.append(row)\n",
    "\n",
    "test_df[\"genre_count\"] = genre_per_movie"
   ]
  },
  {
   "cell_type": "code",
   "execution_count": 1871,
   "metadata": {},
   "outputs": [],
   "source": [
    "genere_order = ['0-genere', '1-genere', '2-genere', '3-genere', '4-genere','5-genere', '6-genere']"
   ]
  },
  {
   "cell_type": "code",
   "execution_count": 1872,
   "metadata": {},
   "outputs": [],
   "source": [
    "train_df[\"genre_count\"] = train_df[\"genre_count\"].astype(\"category\").cat.set_categories(genere_order, ordered=True)\n",
    "train_df[\"genre_count\"] = train_df['genre_count'].cat.codes\n",
    "\n",
    "test_df[\"genre_count\"] = test_df[\"genre_count\"].astype(\"category\").cat.set_categories(genere_order, ordered=True)\n",
    "test_df[\"genre_count\"] = test_df['genre_count'].cat.codes"
   ]
  },
  {
   "cell_type": "code",
   "execution_count": 1873,
   "metadata": {},
   "outputs": [
    {
     "data": {
      "text/plain": [
       "2    972\n",
       "3    900\n",
       "1    593\n",
       "4    393\n",
       "5    111\n",
       "6     24\n",
       "0      7\n",
       "Name: genre_count, dtype: int64"
      ]
     },
     "execution_count": 1873,
     "metadata": {},
     "output_type": "execute_result"
    }
   ],
   "source": [
    "train_df[\"genre_count\"].value_counts()"
   ]
  },
  {
   "cell_type": "markdown",
   "metadata": {},
   "source": [
    "After having created a categorial variable for generes we now let's look into the single elements for each genere row and try to one hot encode them in our dataset"
   ]
  },
  {
   "cell_type": "code",
   "execution_count": 1874,
   "metadata": {},
   "outputs": [],
   "source": [
    "from sklearn.feature_extraction.text import CountVectorizer"
   ]
  },
  {
   "cell_type": "code",
   "execution_count": 1875,
   "metadata": {},
   "outputs": [],
   "source": [
    "vect = CountVectorizer()\n",
    "X = vect.fit_transform(train_df[\"genres\"].str.join(' '))\n",
    "train_df = train_df.join(pd.DataFrame(X.toarray(), columns=vect.get_feature_names()))"
   ]
  },
  {
   "cell_type": "code",
   "execution_count": 1876,
   "metadata": {},
   "outputs": [],
   "source": [
    "vect = CountVectorizer()\n",
    "X = vect.fit_transform(test_df[\"genres\"].str.join(' '))\n",
    "test_df = test_df.join(pd.DataFrame(X.toarray(), columns=vect.get_feature_names()))"
   ]
  },
  {
   "cell_type": "code",
   "execution_count": 1877,
   "metadata": {},
   "outputs": [
    {
     "data": {
      "text/html": [
       "<div>\n",
       "<style scoped>\n",
       "    .dataframe tbody tr th:only-of-type {\n",
       "        vertical-align: middle;\n",
       "    }\n",
       "\n",
       "    .dataframe tbody tr th {\n",
       "        vertical-align: top;\n",
       "    }\n",
       "\n",
       "    .dataframe thead th {\n",
       "        text-align: right;\n",
       "    }\n",
       "</style>\n",
       "<table border=\"1\" class=\"dataframe\">\n",
       "  <thead>\n",
       "    <tr style=\"text-align: right;\">\n",
       "      <th></th>\n",
       "      <th>id</th>\n",
       "      <th>belongs_to_collection</th>\n",
       "      <th>budget</th>\n",
       "      <th>genres</th>\n",
       "      <th>homepage</th>\n",
       "      <th>imdb_id</th>\n",
       "      <th>original_language</th>\n",
       "      <th>original_title</th>\n",
       "      <th>overview</th>\n",
       "      <th>popularity</th>\n",
       "      <th>...</th>\n",
       "      <th>history</th>\n",
       "      <th>horror</th>\n",
       "      <th>music</th>\n",
       "      <th>mystery</th>\n",
       "      <th>romance</th>\n",
       "      <th>sciencefiction</th>\n",
       "      <th>thriller</th>\n",
       "      <th>tvmovie</th>\n",
       "      <th>war</th>\n",
       "      <th>western</th>\n",
       "    </tr>\n",
       "  </thead>\n",
       "  <tbody>\n",
       "    <tr>\n",
       "      <th>0</th>\n",
       "      <td>1</td>\n",
       "      <td>1</td>\n",
       "      <td>16.454568</td>\n",
       "      <td>[Comedy]</td>\n",
       "      <td>NaN</td>\n",
       "      <td>tt2637294</td>\n",
       "      <td>en</td>\n",
       "      <td>Hot Tub Time Machine 2</td>\n",
       "      <td>When Lou, who has become the \"father of the In...</td>\n",
       "      <td>6.575393</td>\n",
       "      <td>...</td>\n",
       "      <td>0</td>\n",
       "      <td>0</td>\n",
       "      <td>0</td>\n",
       "      <td>0</td>\n",
       "      <td>0</td>\n",
       "      <td>0</td>\n",
       "      <td>0</td>\n",
       "      <td>0</td>\n",
       "      <td>0</td>\n",
       "      <td>0</td>\n",
       "    </tr>\n",
       "    <tr>\n",
       "      <th>1</th>\n",
       "      <td>2</td>\n",
       "      <td>1</td>\n",
       "      <td>17.504390</td>\n",
       "      <td>[Comedy, Drama, Family, Romance]</td>\n",
       "      <td>NaN</td>\n",
       "      <td>tt0368933</td>\n",
       "      <td>en</td>\n",
       "      <td>The Princess Diaries 2: Royal Engagement</td>\n",
       "      <td>Mia Thermopolis is now a college graduate and ...</td>\n",
       "      <td>8.248895</td>\n",
       "      <td>...</td>\n",
       "      <td>0</td>\n",
       "      <td>0</td>\n",
       "      <td>0</td>\n",
       "      <td>0</td>\n",
       "      <td>1</td>\n",
       "      <td>0</td>\n",
       "      <td>0</td>\n",
       "      <td>0</td>\n",
       "      <td>0</td>\n",
       "      <td>0</td>\n",
       "    </tr>\n",
       "    <tr>\n",
       "      <th>2</th>\n",
       "      <td>3</td>\n",
       "      <td>0</td>\n",
       "      <td>15.009433</td>\n",
       "      <td>[Drama]</td>\n",
       "      <td>http://sonyclassics.com/whiplash/</td>\n",
       "      <td>tt2582802</td>\n",
       "      <td>en</td>\n",
       "      <td>Whiplash</td>\n",
       "      <td>Under the direction of a ruthless instructor, ...</td>\n",
       "      <td>64.299990</td>\n",
       "      <td>...</td>\n",
       "      <td>0</td>\n",
       "      <td>0</td>\n",
       "      <td>0</td>\n",
       "      <td>0</td>\n",
       "      <td>0</td>\n",
       "      <td>0</td>\n",
       "      <td>0</td>\n",
       "      <td>0</td>\n",
       "      <td>0</td>\n",
       "      <td>0</td>\n",
       "    </tr>\n",
       "  </tbody>\n",
       "</table>\n",
       "<p>3 rows × 45 columns</p>\n",
       "</div>"
      ],
      "text/plain": [
       "   id  belongs_to_collection     budget                            genres  \\\n",
       "0   1                      1  16.454568                          [Comedy]   \n",
       "1   2                      1  17.504390  [Comedy, Drama, Family, Romance]   \n",
       "2   3                      0  15.009433                           [Drama]   \n",
       "\n",
       "                            homepage    imdb_id original_language  \\\n",
       "0                                NaN  tt2637294                en   \n",
       "1                                NaN  tt0368933                en   \n",
       "2  http://sonyclassics.com/whiplash/  tt2582802                en   \n",
       "\n",
       "                             original_title  \\\n",
       "0                    Hot Tub Time Machine 2   \n",
       "1  The Princess Diaries 2: Royal Engagement   \n",
       "2                                  Whiplash   \n",
       "\n",
       "                                            overview  popularity   ...    \\\n",
       "0  When Lou, who has become the \"father of the In...    6.575393   ...     \n",
       "1  Mia Thermopolis is now a college graduate and ...    8.248895   ...     \n",
       "2  Under the direction of a ruthless instructor, ...   64.299990   ...     \n",
       "\n",
       "  history horror music mystery  romance sciencefiction thriller tvmovie war  \\\n",
       "0       0      0     0       0        0              0        0       0   0   \n",
       "1       0      0     0       0        1              0        0       0   0   \n",
       "2       0      0     0       0        0              0        0       0   0   \n",
       "\n",
       "  western  \n",
       "0       0  \n",
       "1       0  \n",
       "2       0  \n",
       "\n",
       "[3 rows x 45 columns]"
      ]
     },
     "execution_count": 1877,
     "metadata": {},
     "output_type": "execute_result"
    }
   ],
   "source": [
    "train_df.head(3)"
   ]
  },
  {
   "cell_type": "code",
   "execution_count": 1878,
   "metadata": {},
   "outputs": [],
   "source": [
    "train_df = train_df.drop([\"genres\"], 1)\n",
    "test_df = test_df.drop([\"genres\"], 1)"
   ]
  },
  {
   "cell_type": "markdown",
   "metadata": {},
   "source": [
    "### 1.4 \"homepage\""
   ]
  },
  {
   "cell_type": "code",
   "execution_count": 1879,
   "metadata": {},
   "outputs": [
    {
     "name": "stdout",
     "output_type": "stream",
     "text": [
      "The column has (942,) total categories\n",
      "The column has 2054 missing rows\n",
      "0.0013333333333333333 of the column is composed by one value\n"
     ]
    }
   ],
   "source": [
    "print(f\"The column has {train_df['homepage'].unique().shape} total categories\")\n",
    "print(f\"The column has {train_df['homepage'].isnull().sum()} missing rows\")\n",
    "print(f\"{train_df['homepage'].value_counts().max()/len(train_df['homepage'])} of the column is composed by one value\")"
   ]
  },
  {
   "cell_type": "markdown",
   "metadata": {},
   "source": [
    "We decide to convert the column into a binary split."
   ]
  },
  {
   "cell_type": "code",
   "execution_count": 1880,
   "metadata": {},
   "outputs": [],
   "source": [
    "lst = []\n",
    "for row in train_df[\"homepage\"]:\n",
    "    if str(type(row)) == \"<class 'float'>\":\n",
    "        row = 0\n",
    "        lst.append(row)\n",
    "    else:\n",
    "        row = 1\n",
    "        lst.append(row)\n",
    "lst = pd.Series(lst)\n",
    "train_df[\"has_homepage\"] = lst "
   ]
  },
  {
   "cell_type": "code",
   "execution_count": 1881,
   "metadata": {},
   "outputs": [],
   "source": [
    "lst = []\n",
    "for row in test_df[\"homepage\"]:\n",
    "    if str(type(row)) == \"<class 'float'>\":\n",
    "        row = 0\n",
    "        lst.append(row)\n",
    "    else:\n",
    "        row = 1\n",
    "        lst.append(row)\n",
    "lst = pd.Series(lst)\n",
    "test_df[\"has_homepage\"] = lst "
   ]
  },
  {
   "cell_type": "code",
   "execution_count": 1882,
   "metadata": {},
   "outputs": [],
   "source": [
    "train_df = train_df.drop([\"homepage\"], 1)\n",
    "test_df = test_df.drop([\"homepage\"], 1)"
   ]
  },
  {
   "cell_type": "markdown",
   "metadata": {},
   "source": [
    "### 1.5 \"original_language\""
   ]
  },
  {
   "cell_type": "code",
   "execution_count": 1883,
   "metadata": {},
   "outputs": [
    {
     "data": {
      "text/plain": [
       "en    2575\n",
       "fr      78\n",
       "ru      47\n",
       "es      43\n",
       "hi      42\n",
       "Name: original_language, dtype: int64"
      ]
     },
     "execution_count": 1883,
     "metadata": {},
     "output_type": "execute_result"
    }
   ],
   "source": [
    "train_df[\"original_language\"].value_counts().head()"
   ]
  },
  {
   "cell_type": "code",
   "execution_count": 1884,
   "metadata": {},
   "outputs": [
    {
     "name": "stdout",
     "output_type": "stream",
     "text": [
      "The column has (36,) total categories\n",
      "The column has 0 missing rows\n",
      "0.8583333333333333 of the column is composed by one value\n"
     ]
    }
   ],
   "source": [
    "print(f\"The column has {train_df['original_language'].unique().shape} total categories\")\n",
    "print(f\"The column has {train_df['original_language'].isnull().sum()} missing rows\")\n",
    "print(f\"{train_df['original_language'].value_counts().max()/len(train_df['original_language'])} of the column is composed by one value\")"
   ]
  },
  {
   "cell_type": "markdown",
   "metadata": {},
   "source": [
    "Altough using a binary distinguisher between english being the main language and the rest may seem redundant is we do encode the column we still do it to ge our model more diverified points of view.\n"
   ]
  },
  {
   "cell_type": "code",
   "execution_count": 1885,
   "metadata": {},
   "outputs": [],
   "source": [
    "main_is_english = []\n",
    "for lang in train_df[\"original_language\"]:\n",
    "    if lang == \"en\":\n",
    "        lang = 1\n",
    "        main_is_english.append(lang)\n",
    "    else:\n",
    "        lang = 0\n",
    "        main_is_english.append(lang)\n",
    "\n",
    "train_df[\"main_is_english\"] = main_is_english"
   ]
  },
  {
   "cell_type": "code",
   "execution_count": 1886,
   "metadata": {},
   "outputs": [],
   "source": [
    "main_is_english = []\n",
    "for lang in test_df[\"original_language\"]:\n",
    "    if lang == \"en\":\n",
    "        lang = 1\n",
    "        main_is_english.append(lang)\n",
    "    else:\n",
    "        lang = 0\n",
    "        main_is_english.append(lang)\n",
    "\n",
    "test_df[\"main_is_english\"] = main_is_english"
   ]
  },
  {
   "cell_type": "markdown",
   "metadata": {},
   "source": [
    "Now we encode the column"
   ]
  },
  {
   "cell_type": "code",
   "execution_count": 1887,
   "metadata": {},
   "outputs": [],
   "source": [
    "train_df[\"original_language\"] = train_df[\"original_language\"].astype(\"category\").cat.codes\n",
    "test_df[\"original_language\"] = test_df[\"original_language\"].astype(\"category\").cat.codes"
   ]
  },
  {
   "cell_type": "code",
   "execution_count": 1888,
   "metadata": {},
   "outputs": [
    {
     "data": {
      "text/plain": [
       "7     2575\n",
       "11      78\n",
       "27      47\n",
       "8       43\n",
       "13      42\n",
       "Name: original_language, dtype: int64"
      ]
     },
     "execution_count": 1888,
     "metadata": {},
     "output_type": "execute_result"
    }
   ],
   "source": [
    "train_df[\"original_language\"].value_counts().head()"
   ]
  },
  {
   "cell_type": "markdown",
   "metadata": {},
   "source": [
    "### 1.6 \"original_title\""
   ]
  },
  {
   "cell_type": "code",
   "execution_count": 1889,
   "metadata": {},
   "outputs": [],
   "source": [
    "s =  train_df[\"original_title\"].value_counts() == 2\n",
    "d = s.reset_index()\n",
    "double_title = d[d[\"original_title\"] == True][\"index\"]\n",
    "lst = []\n",
    "for row in train_df[\"original_title\"].isin(double_title):\n",
    "    if row == True:\n",
    "        row = 1\n",
    "        lst.append(row)\n",
    "    else:\n",
    "        row = 0\n",
    "        lst.append(row)\n",
    "train_df[\"title_appears_twice\"] = lst"
   ]
  },
  {
   "cell_type": "code",
   "execution_count": 1890,
   "metadata": {},
   "outputs": [],
   "source": [
    "s =  test_df[\"original_title\"].value_counts() == 2\n",
    "d = s.reset_index()\n",
    "double_title = d[d[\"original_title\"] == True][\"index\"]\n",
    "lst = []\n",
    "for row in test_df[\"original_title\"].isin(double_title):\n",
    "    if row == True:\n",
    "        row = 1\n",
    "        lst.append(row)\n",
    "    else:\n",
    "        row = 0\n",
    "        lst.append(row)\n",
    "test_df[\"title_appears_twice\"] = lst"
   ]
  },
  {
   "cell_type": "code",
   "execution_count": 1891,
   "metadata": {},
   "outputs": [
    {
     "name": "stdout",
     "output_type": "stream",
     "text": [
      "The column has (2975,) total categories\n",
      "The column has 0 missing rows\n",
      "0.0006666666666666666 of the column is composed by one value\n"
     ]
    }
   ],
   "source": [
    "print(f\"The column has {train_df['original_title'].unique().shape} total categories\")\n",
    "print(f\"The column has {train_df['original_title'].isnull().sum()} missing rows\")\n",
    "print(f\"{train_df['original_title'].value_counts().max()/len(train_df['original_title'])} of the column is composed by one value\")"
   ]
  },
  {
   "cell_type": "code",
   "execution_count": 1892,
   "metadata": {},
   "outputs": [],
   "source": [
    "train_df = train_df.drop([\"original_title\"],1)\n",
    "test_df = test_df.drop([\"original_title\"],1)"
   ]
  },
  {
   "cell_type": "markdown",
   "metadata": {},
   "source": [
    "### 1.7 \"overview\""
   ]
  },
  {
   "cell_type": "code",
   "execution_count": 1893,
   "metadata": {},
   "outputs": [
    {
     "data": {
      "text/plain": [
       "Ast√©rix and Ob√©lix have to win the Olympic Games in order to help their friend Alafolix marry Princess Irina (portrayed by supermodel Vanessa Hessler). Brutus (Beno√Æt Poelvoorde) uses every trick in the book to have his own team win the game, and get rid of his father Julius Caesar (Alain Delon) in the process.    1\n",
       "Name: overview, dtype: int64"
      ]
     },
     "execution_count": 1893,
     "metadata": {},
     "output_type": "execute_result"
    }
   ],
   "source": [
    "train_df[\"overview\"].value_counts().head(1)"
   ]
  },
  {
   "cell_type": "code",
   "execution_count": 1894,
   "metadata": {},
   "outputs": [
    {
     "name": "stdout",
     "output_type": "stream",
     "text": [
      "The column has (2993,) total categories\n",
      "The column has 8 missing rows\n",
      "0.0003333333333333333 of the column is composed by one value\n"
     ]
    }
   ],
   "source": [
    "print(f\"The column has {train_df['overview'].unique().shape} total categories\")\n",
    "print(f\"The column has {train_df['overview'].isnull().sum()} missing rows\")\n",
    "print(f\"{train_df['overview'].value_counts().max()/len(train_df['overview'])} of the column is composed by one value\")"
   ]
  },
  {
   "cell_type": "markdown",
   "metadata": {},
   "source": [
    "Although the column is composed by short-descriptions of the actual movie, we might be able to process this data to capture some sort of interaction with the dependent variable.\n",
    "\n",
    "First, let's deal with the nan values."
   ]
  },
  {
   "cell_type": "code",
   "execution_count": 1895,
   "metadata": {},
   "outputs": [
    {
     "name": "stdout",
     "output_type": "stream",
     "text": [
      "The column has 0 missing rows\n"
     ]
    }
   ],
   "source": [
    "train_df[\"overview\"] = train_df[\"overview\"].fillna(0)\n",
    "test_df[\"overview\"] = test_df[\"overview\"].fillna(0)\n",
    "print(f\"The column has {train_df['overview'].isnull().sum()} missing rows\")"
   ]
  },
  {
   "cell_type": "markdown",
   "metadata": {},
   "source": [
    "Thanks to a simple loop iteration we are able to count the exact amount of characters that has been used in the description (without blank spaces). We are interested in capturing whether a longer string increases consumer expectations and consequently raises sales. "
   ]
  },
  {
   "cell_type": "code",
   "execution_count": 1896,
   "metadata": {},
   "outputs": [],
   "source": [
    "lst = []\n",
    "for row in train_df[\"overview\"]:\n",
    "    if str(type(row)) == \"<class 'str'>\":\n",
    "        row = row.strip()\n",
    "        row = re.sub('[^A-Za-z0-9]+', '', row)\n",
    "        row = len(row)\n",
    "        lst.append(row)\n",
    "    else:\n",
    "        row = 0\n",
    "        lst.append(row)\n",
    "train_df[\"overview\"] = lst"
   ]
  },
  {
   "cell_type": "code",
   "execution_count": 1897,
   "metadata": {},
   "outputs": [],
   "source": [
    "lst = []\n",
    "for row in test_df[\"overview\"]:\n",
    "    if str(type(row)) == \"<class 'str'>\":\n",
    "        row = row.strip()\n",
    "        row = re.sub('[^A-Za-z0-9]+', '', row)\n",
    "        row = len(row)\n",
    "        lst.append(row)\n",
    "    else:\n",
    "        row = 0\n",
    "        lst.append(row)\n",
    "test_df[\"overview\"] = lst"
   ]
  },
  {
   "cell_type": "code",
   "execution_count": 1898,
   "metadata": {},
   "outputs": [
    {
     "data": {
      "text/plain": [
       "136    18\n",
       "169    17\n",
       "114    16\n",
       "258    16\n",
       "263    16\n",
       "Name: overview, dtype: int64"
      ]
     },
     "execution_count": 1898,
     "metadata": {},
     "output_type": "execute_result"
    }
   ],
   "source": [
    "train_df[\"overview\"].value_counts().head()"
   ]
  },
  {
   "cell_type": "code",
   "execution_count": 1899,
   "metadata": {},
   "outputs": [
    {
     "name": "stdout",
     "output_type": "stream",
     "text": [
      "The column has (553,) total categories\n",
      "The column has 0 missing rows\n",
      "0.006 of the column is composed by one value\n"
     ]
    }
   ],
   "source": [
    "print(f\"The column has {train_df['overview'].unique().shape} total categories\")\n",
    "print(f\"The column has {train_df['overview'].isnull().sum()} missing rows\")\n",
    "print(f\"{train_df['overview'].value_counts().max()/len(train_df['overview'])} of the column is composed by one value\")"
   ]
  },
  {
   "cell_type": "markdown",
   "metadata": {},
   "source": [
    "We reduced the variety in the data to 1/6 of its initial value and are now able to use the column as an independent predictor for our model. Now we need to bin the numbers. Let's have a look at the distribution."
   ]
  },
  {
   "cell_type": "code",
   "execution_count": 1900,
   "metadata": {},
   "outputs": [
    {
     "name": "stdout",
     "output_type": "stream",
     "text": [
      "The maxium length of the desciption is 808\n",
      "The minimum length of the desciption is 0\n"
     ]
    },
    {
     "data": {
      "image/png": "[encoded data removed]",
      "text/plain": [
       "<Figure size 432x288 with 1 Axes>"
      ]
     },
     "metadata": {},
     "output_type": "display_data"
    }
   ],
   "source": [
    "train_df['overview'].plot.hist(bins = 25)\n",
    "print(f\"The maxium length of the desciption is {train_df['overview'].max()}\")\n",
    "print(f\"The minimum length of the desciption is {train_df['overview'].min()}\")"
   ]
  },
  {
   "cell_type": "markdown",
   "metadata": {},
   "source": [
    "We decide to use 8 bins to group this data"
   ]
  },
  {
   "cell_type": "code",
   "execution_count": 1901,
   "metadata": {},
   "outputs": [],
   "source": [
    "lst = []\n",
    "for row in train_df['overview']:\n",
    "    if row <= 100:\n",
    "        row = \"0-100\"\n",
    "        lst.append(row)\n",
    "    elif row > 100 and row <= 200:\n",
    "        row = \"100-200\"\n",
    "        lst.append(row)\n",
    "    elif row >200 and row <= 300:\n",
    "        row = \"200-300\"\n",
    "        lst.append(row)\n",
    "    elif row >300 and row <= 400:\n",
    "        row = \"300-400\"\n",
    "        lst.append(row)\n",
    "    elif row >400 and row <= 500:\n",
    "        row = \"400-500\"\n",
    "        lst.append(row)\n",
    "    elif row >500 and row <= 600:\n",
    "        row = \"500-600\"\n",
    "        lst.append(row)\n",
    "    elif row >600 and row <= 700:\n",
    "        row = \"600-700\"\n",
    "        lst.append(row)\n",
    "    else:\n",
    "        row = \">700\"\n",
    "        lst.append(row)\n",
    "train_df['overview'] = lst"
   ]
  },
  {
   "cell_type": "code",
   "execution_count": 1902,
   "metadata": {},
   "outputs": [],
   "source": [
    "lst = []\n",
    "for row in test_df['overview']:\n",
    "    if row <= 100:\n",
    "        row = \"0-100\"\n",
    "        lst.append(row)\n",
    "    elif row > 100 and row <= 200:\n",
    "        row = \"100-200\"\n",
    "        lst.append(row)\n",
    "    elif row >200 and row <= 300:\n",
    "        row = \"200-300\"\n",
    "        lst.append(row)\n",
    "    elif row >300 and row <= 400:\n",
    "        row = \"300-400\"\n",
    "        lst.append(row)\n",
    "    elif row >400 and row <= 500:\n",
    "        row = \"400-500\"\n",
    "        lst.append(row)\n",
    "    elif row >500 and row <= 600:\n",
    "        row = \"500-600\"\n",
    "        lst.append(row)\n",
    "    elif row >600 and row <= 700:\n",
    "        row = \"600-700\"\n",
    "        lst.append(row)\n",
    "    else:\n",
    "        row = \">700\"\n",
    "        lst.append(row)\n",
    "test_df['overview'] = lst"
   ]
  },
  {
   "cell_type": "code",
   "execution_count": 1903,
   "metadata": {},
   "outputs": [
    {
     "data": {
      "text/plain": [
       "100-200    987\n",
       "200-300    812\n",
       "300-400    591\n",
       "0-100      290\n",
       "400-500    171\n",
       "500-600     77\n",
       "600-700     40\n",
       ">700        32\n",
       "Name: overview, dtype: int64"
      ]
     },
     "execution_count": 1903,
     "metadata": {},
     "output_type": "execute_result"
    }
   ],
   "source": [
    "train_df['overview'].value_counts()"
   ]
  },
  {
   "cell_type": "code",
   "execution_count": 1904,
   "metadata": {},
   "outputs": [
    {
     "name": "stdout",
     "output_type": "stream",
     "text": [
      "The column has (8,) total categories\n",
      "The column has 0 missing rows\n",
      "0.329 of the column is composed by one value\n"
     ]
    }
   ],
   "source": [
    "print(f\"The column has {train_df['overview'].unique().shape} total categories\")\n",
    "print(f\"The column has {train_df['overview'].isnull().sum()} missing rows\")\n",
    "print(f\"{train_df['overview'].value_counts().max()/len(train_df['overview'])} of the column is composed by one value\")"
   ]
  },
  {
   "cell_type": "code",
   "execution_count": 1905,
   "metadata": {},
   "outputs": [],
   "source": [
    "overview_order = ['0-100', '100-200', '200-300','300-400', '400-500',  '500-600',  '600-700', '>700']"
   ]
  },
  {
   "cell_type": "code",
   "execution_count": 1906,
   "metadata": {},
   "outputs": [],
   "source": [
    "train_df[\"overview\"] = train_df[\"overview\"].astype(\"category\").cat.set_categories(overview_order, ordered=True)\n",
    "train_df[\"overview\"] = train_df['overview'].astype(\"category\").cat.codes\n",
    "\n",
    "test_df[\"overview\"] = test_df[\"overview\"].astype(\"category\").cat.set_categories(overview_order, ordered=True)\n",
    "test_df[\"overview\"] = test_df['overview'].astype(\"category\").cat.codes"
   ]
  },
  {
   "cell_type": "markdown",
   "metadata": {},
   "source": [
    "### 1.8 \"imdb_id\""
   ]
  },
  {
   "cell_type": "code",
   "execution_count": 1907,
   "metadata": {},
   "outputs": [
    {
     "name": "stdout",
     "output_type": "stream",
     "text": [
      "The column has (3000,) total categories\n",
      "The column has 0 missing rows\n",
      "0.0003333333333333333 of the column is composed by one value\n"
     ]
    }
   ],
   "source": [
    "print(f\"The column has {train_df['imdb_id'].unique().shape} total categories\")\n",
    "print(f\"The column has {train_df['imdb_id'].isnull().sum()} missing rows\")\n",
    "print(f\"{train_df['imdb_id'].value_counts().max()/len(train_df['imdb_id'])} of the column is composed by one value\")"
   ]
  },
  {
   "cell_type": "markdown",
   "metadata": {},
   "source": [
    "If this was a real-life project one could use the imdb_id to retrive valuabe insights from the [IMDB API](https://developers.themoviedb.org/3/find). Nonetheless, for the purpose of this competition we deem that this column does not hold any valuable data for our model."
   ]
  },
  {
   "cell_type": "code",
   "execution_count": 1908,
   "metadata": {},
   "outputs": [],
   "source": [
    "train_df = train_df.drop([\"imdb_id\"],1)\n",
    "test_df = test_df.drop([\"imdb_id\"],1)"
   ]
  },
  {
   "cell_type": "markdown",
   "metadata": {},
   "source": [
    "### 1.9 \"poster_path\""
   ]
  },
  {
   "cell_type": "code",
   "execution_count": 1909,
   "metadata": {},
   "outputs": [
    {
     "name": "stdout",
     "output_type": "stream",
     "text": [
      "The column has (3000,) total categories\n",
      "The column has 1 missing rows\n",
      "0.0003333333333333333 of the column is composed by one value\n"
     ]
    }
   ],
   "source": [
    "print(f\"The column has {train_df['poster_path'].unique().shape} total categories\")\n",
    "print(f\"The column has {train_df['poster_path'].isnull().sum()} missing rows\")\n",
    "print(f\"{train_df['poster_path'].value_counts().max()/len(train_df['poster_path'])} of the column is composed by one value\")"
   ]
  },
  {
   "cell_type": "markdown",
   "metadata": {},
   "source": [
    "We decide to drop this column. "
   ]
  },
  {
   "cell_type": "code",
   "execution_count": 1910,
   "metadata": {},
   "outputs": [],
   "source": [
    "train_df = train_df.drop([\"poster_path\"],1)\n",
    "test_df = test_df.drop([\"poster_path\"],1)"
   ]
  },
  {
   "cell_type": "markdown",
   "metadata": {},
   "source": [
    "### 1.11 \"production_companies\""
   ]
  },
  {
   "cell_type": "code",
   "execution_count": 1911,
   "metadata": {},
   "outputs": [
    {
     "name": "stdout",
     "output_type": "stream",
     "text": [
      "The column has (2384,) total categories\n",
      "The column has 156 missing rows\n",
      "0.017 of the column is composed by one value\n"
     ]
    }
   ],
   "source": [
    "print(f\"The column has {train_df['production_companies'].unique().shape} total categories\")\n",
    "print(f\"The column has {train_df['production_companies'].isnull().sum()} missing rows\")\n",
    "print(f\"{train_df['production_companies'].value_counts().max()/len(train_df['production_companies'])} of the column is composed by one value\")"
   ]
  },
  {
   "cell_type": "code",
   "execution_count": 1912,
   "metadata": {},
   "outputs": [],
   "source": [
    "def production_companies_preprocessing(elem):\n",
    "    string = str(elem)\n",
    "    str1 = string.replace(']','').replace('[','').replace('{','').replace('}','').replace(' ','').replace(\"name\", \"\").replace(\"id\", \"\").replace(\":\", \"\").replace(\"\\'\", \"\")\n",
    "    ll = str1.split(\",\")[0::2]\n",
    "    return ll\n",
    "\n",
    "train_df[\"production_companies_processed\"] = train_df.production_companies.apply(lambda elem: production_companies_preprocessing(elem))\n",
    "test_df[\"production_companies_processed\"] = test_df.production_companies.apply(lambda elem: production_companies_preprocessing(elem))"
   ]
  },
  {
   "cell_type": "code",
   "execution_count": 1913,
   "metadata": {},
   "outputs": [],
   "source": [
    "count_comp = []\n",
    "for row in train_df[\"production_companies_processed\"]:\n",
    "    if row[0] != \"nan\" and len(row) == 1 :\n",
    "        row = \"1-companies\"\n",
    "        count_comp.append(row)\n",
    "    elif row[0] != \"nan\" and len(row) == 2:\n",
    "        row = \"2-companies\"\n",
    "        count_comp.append(row)\n",
    "    elif row[0] != \"nan\" and len(row) == 3:\n",
    "        row = \"3-companies\"\n",
    "        count_comp.append(row)\n",
    "    elif row[0] != \"nan\" and len(row) == 4:\n",
    "        row = \"4-companies\"\n",
    "        count_comp.append(row)\n",
    "    elif row[0] != \"nan\" and len(row) == 5:\n",
    "        row = \"5-companies\"\n",
    "        count_comp.append(row)\n",
    "    elif row[0] != \"nan\" and len(row) == 6:\n",
    "        row = \"6-companies\"\n",
    "        count_comp.append(row)\n",
    "    elif row[0] != \"nan\" and len(row) == 7:\n",
    "        row = \"7-companies\"\n",
    "        count_comp.append(row)\n",
    "    elif row[0] != \"nan\" and len(row) == 8:\n",
    "        row = \"8-companies\"\n",
    "        count_comp.append(row)\n",
    "    elif row[0] != \"nan\" and len(row) == 9:\n",
    "        row = \"9-companies\"\n",
    "        count_comp.append(row)\n",
    "    elif row[0] != \"nan\" and len(row) == 10:\n",
    "        row = \"10-companies\"\n",
    "        count_comp.append(row)\n",
    "    elif row[0] == \"nan\":\n",
    "        row = \"0-companies\"\n",
    "        count_comp.append(row)\n",
    "    else:\n",
    "        row = \">10-companies\"\n",
    "        count_comp.append(row)\n",
    "\n",
    "train_df[\"production_companies_count\"] = count_comp"
   ]
  },
  {
   "cell_type": "code",
   "execution_count": 1914,
   "metadata": {},
   "outputs": [],
   "source": [
    "count_comp = []\n",
    "for row in test_df[\"production_companies_processed\"]:\n",
    "    if row[0] != \"nan\" and len(row) == 1 :\n",
    "        row = \"1-companies\"\n",
    "        count_comp.append(row)\n",
    "    elif row[0] != \"nan\" and len(row) == 2:\n",
    "        row = \"2-companies\"\n",
    "        count_comp.append(row)\n",
    "    elif row[0] != \"nan\" and len(row) == 3:\n",
    "        row = \"3-companies\"\n",
    "        count_comp.append(row)\n",
    "    elif row[0] != \"nan\" and len(row) == 4:\n",
    "        row = \"4-companies\"\n",
    "        count_comp.append(row)\n",
    "    elif row[0] != \"nan\" and len(row) == 5:\n",
    "        row = \"5-companies\"\n",
    "        count_comp.append(row)\n",
    "    elif row[0] != \"nan\" and len(row) == 6:\n",
    "        row = \"6-companies\"\n",
    "        count_comp.append(row)\n",
    "    elif row[0] != \"nan\" and len(row) == 7:\n",
    "        row = \"7-companies\"\n",
    "        count_comp.append(row)\n",
    "    elif row[0] != \"nan\" and len(row) == 8:\n",
    "        row = \"8-companies\"\n",
    "        count_comp.append(row)\n",
    "    elif row[0] != \"nan\" and len(row) == 9:\n",
    "        row = \"9-companies\"\n",
    "        count_comp.append(row)\n",
    "    elif row[0] != \"nan\" and len(row) == 10:\n",
    "        row = \"10-companies\"\n",
    "        count_comp.append(row)\n",
    "    elif row[0] == \"nan\":\n",
    "        row = \"0-companies\"\n",
    "        count_comp.append(row)\n",
    "    else:\n",
    "        row = \">10-companies\"\n",
    "        count_comp.append(row)\n",
    "\n",
    "test_df[\"production_companies_count\"] = count_comp"
   ]
  },
  {
   "cell_type": "code",
   "execution_count": 1915,
   "metadata": {},
   "outputs": [
    {
     "data": {
      "text/plain": [
       "1-companies      774\n",
       "2-companies      727\n",
       "3-companies      578\n",
       "4-companies      322\n",
       "5-companies      161\n",
       "0-companies      156\n",
       "6-companies      122\n",
       "7-companies       62\n",
       "8-companies       42\n",
       "9-companies       32\n",
       ">10-companies     18\n",
       "10-companies       6\n",
       "Name: production_companies_count, dtype: int64"
      ]
     },
     "execution_count": 1915,
     "metadata": {},
     "output_type": "execute_result"
    }
   ],
   "source": [
    "train_df[\"production_companies_count\"].value_counts()"
   ]
  },
  {
   "cell_type": "code",
   "execution_count": 1916,
   "metadata": {},
   "outputs": [],
   "source": [
    "order_prod_count = [ '0-companies',\n",
    " '1-companies',\n",
    " '2-companies',\n",
    " '3-companies',\n",
    " '4-companies',\n",
    " '5-companies',\n",
    " '6-companies',\n",
    " '7-companies',\n",
    " '8-companies',\n",
    " '9-companies',\n",
    " '10-companies', \n",
    " '>10-companies']"
   ]
  },
  {
   "cell_type": "code",
   "execution_count": 1917,
   "metadata": {},
   "outputs": [],
   "source": [
    "train_df[\"production_companies_count\"] = train_df[\"production_companies_count\"].astype(\"category\").cat.set_categories(order_prod_count, ordered=True)\n",
    "train_df[\"production_companies_count\"] = train_df['production_companies_count'].astype(\"category\").cat.codes\n",
    "\n",
    "test_df[\"production_companies_count\"] = test_df[\"production_companies_count\"].astype(\"category\").cat.set_categories(order_prod_count, ordered=True)\n",
    "test_df[\"production_companies_count\"] = test_df['production_companies_count'].astype(\"category\").cat.codes"
   ]
  },
  {
   "cell_type": "code",
   "execution_count": 1918,
   "metadata": {},
   "outputs": [],
   "source": [
    "companies = []\n",
    "for row in train_df[\"production_companies_processed\"]:\n",
    "    if row[0] == \"nan\":\n",
    "        row = 0\n",
    "        companies.append(row)\n",
    "    else:\n",
    "        row = 1\n",
    "        companies.append(row)\n",
    "train_df[\"has_production_company\"] = companies"
   ]
  },
  {
   "cell_type": "code",
   "execution_count": 1919,
   "metadata": {},
   "outputs": [],
   "source": [
    "companies = []\n",
    "for row in test_df[\"production_companies_processed\"]:\n",
    "    if row[0] == \"nan\":\n",
    "        row = 0\n",
    "        companies.append(row)\n",
    "    else:\n",
    "        row = 1\n",
    "        companies.append(row)\n",
    "test_df[\"has_production_company\"] = companies"
   ]
  },
  {
   "cell_type": "code",
   "execution_count": 1920,
   "metadata": {},
   "outputs": [],
   "source": [
    "train_df = train_df.drop([\"production_companies\",\"production_companies_processed\"],1)\n",
    "test_df = test_df.drop([\"production_companies\",\"production_companies_processed\"],1)"
   ]
  },
  {
   "cell_type": "markdown",
   "metadata": {},
   "source": [
    "### 1.12 Production Countries"
   ]
  },
  {
   "cell_type": "code",
   "execution_count": 1921,
   "metadata": {},
   "outputs": [
    {
     "name": "stdout",
     "output_type": "stream",
     "text": [
      "The column has (322,) total categories\n",
      "The column has 55 missing rows\n",
      "0.584 of the column is composed by one value\n"
     ]
    }
   ],
   "source": [
    "print(f\"The column has {train_df['production_countries'].unique().shape} total categories\")\n",
    "print(f\"The column has {train_df['production_countries'].isnull().sum()} missing rows\")\n",
    "print(f\"{train_df['production_countries'].value_counts().max()/len(train_df['production_countries'])} of the column is composed by one value\")"
   ]
  },
  {
   "cell_type": "code",
   "execution_count": 1922,
   "metadata": {},
   "outputs": [],
   "source": [
    "def production_countries_preprocessing(elem):\n",
    "    string = str(elem)\n",
    "    str1 = string.replace(']','').replace('[','').replace('{','').replace('}','').replace(' ','').replace(\"name\", \"\").replace(\"iso_3166_1\", \"\").replace(\":\", \"\").replace(\"\\'\", \"\")\n",
    "    ll = str1.split(\",\")[0::2]\n",
    "    return ll\n",
    "\n",
    "train_df[\"production_countries_processed\"] = train_df.production_countries.fillna(\"NaN\").apply(lambda elem: production_countries_preprocessing(elem))\n",
    "test_df[\"production_countries_processed\"] = test_df.production_countries.fillna(\"NaN\").apply(lambda elem: production_countries_preprocessing(elem))"
   ]
  },
  {
   "cell_type": "code",
   "execution_count": 1923,
   "metadata": {},
   "outputs": [],
   "source": [
    "count_comp = []\n",
    "for row in train_df[\"production_countries_processed\"]:\n",
    "    if row[0] != \"NaN\" and len(row) == 1 :\n",
    "        row = \"1-country\"\n",
    "        count_comp.append(row)\n",
    "    elif row[0] != \"NaN\" and len(row) == 2:\n",
    "        row = \"2-country\"\n",
    "        count_comp.append(row)\n",
    "    elif row[0] != \"NaN\" and len(row) == 3:\n",
    "        row = \"3-country\"\n",
    "        count_comp.append(row)\n",
    "    elif row[0] != \"NaN\" and len(row) == 4:\n",
    "        row = \"4-country\"\n",
    "        count_comp.append(row)\n",
    "    elif row[0] != \"NaN\" and len(row) == 5:\n",
    "        row = \"5-country\"\n",
    "        count_comp.append(row)\n",
    "    elif row[0] != \"NaN\" and len(row) == 6:\n",
    "        row = \"6-country\"\n",
    "        count_comp.append(row)\n",
    "    elif row[0] != \"NaN\" and len(row) == 7:\n",
    "        row = \"7-country\"\n",
    "        count_comp.append(row)\n",
    "    elif row[0] != \"NaN\" and len(row) == 8:\n",
    "        row = \"8-country\"\n",
    "        count_comp.append(row)\n",
    "    elif row[0] != \"NaN\" and len(row) == 9:\n",
    "        row = \"9-country\"\n",
    "        count_comp.append(row)\n",
    "    elif row[0] != \"NaN\" and len(row) == 10:\n",
    "        row = \"10-country\"\n",
    "        count_comp.append(row)\n",
    "    elif row[0] == \"NaN\":\n",
    "        row = \"0-country\"\n",
    "        count_comp.append(row)\n",
    "    else:\n",
    "        row = \"8-country\"\n",
    "        count_comp.append(row)\n",
    "\n",
    "train_df[\"production_countries_count\"] = count_comp"
   ]
  },
  {
   "cell_type": "code",
   "execution_count": 1924,
   "metadata": {},
   "outputs": [],
   "source": [
    "count_comp = []\n",
    "for row in test_df[\"production_countries_processed\"]:\n",
    "    if row[0] != \"NaN\" and len(row) == 1 :\n",
    "        row = \"1-country\"\n",
    "        count_comp.append(row)\n",
    "    elif row[0] != \"NaN\" and len(row) == 2:\n",
    "        row = \"2-country\"\n",
    "        count_comp.append(row)\n",
    "    elif row[0] != \"NaN\" and len(row) == 3:\n",
    "        row = \"3-country\"\n",
    "        count_comp.append(row)\n",
    "    elif row[0] != \"NaN\" and len(row) == 4:\n",
    "        row = \"4-country\"\n",
    "        count_comp.append(row)\n",
    "    elif row[0] != \"NaN\" and len(row) == 5:\n",
    "        row = \"5-country\"\n",
    "        count_comp.append(row)\n",
    "    elif row[0] != \"NaN\" and len(row) == 6:\n",
    "        row = \"6-country\"\n",
    "        count_comp.append(row)\n",
    "    elif row[0] != \"NaN\" and len(row) == 7:\n",
    "        row = \"7-country\"\n",
    "        count_comp.append(row)\n",
    "    elif row[0] != \"NaN\" and len(row) == 8:\n",
    "        row = \"8-country\"\n",
    "        count_comp.append(row)\n",
    "    elif row[0] != \"NaN\" and len(row) == 9:\n",
    "        row = \"9-country\"\n",
    "        count_comp.append(row)\n",
    "    elif row[0] != \"NaN\" and len(row) == 10:\n",
    "        row = \"10-country\"\n",
    "        count_comp.append(row)\n",
    "    elif row[0] == \"NaN\":\n",
    "        row = \"0-country\"\n",
    "        count_comp.append(row)\n",
    "    else:\n",
    "        row = \"8-country\"\n",
    "        count_comp.append(row)\n",
    "\n",
    "test_df[\"production_countries_count\"] = count_comp"
   ]
  },
  {
   "cell_type": "code",
   "execution_count": 1925,
   "metadata": {},
   "outputs": [
    {
     "data": {
      "text/plain": [
       "1-country    2222\n",
       "2-country     525\n",
       "3-country     116\n",
       "4-country      57\n",
       "0-country      55\n",
       "5-country      21\n",
       "6-country       3\n",
       "8-country       1\n",
       "Name: production_countries_count, dtype: int64"
      ]
     },
     "execution_count": 1925,
     "metadata": {},
     "output_type": "execute_result"
    }
   ],
   "source": [
    "train_df[\"production_countries_count\"].value_counts()"
   ]
  },
  {
   "cell_type": "code",
   "execution_count": 1926,
   "metadata": {},
   "outputs": [],
   "source": [
    "order_prod_country = [ '0-country',\n",
    " '1-country',\n",
    " '2-country',\n",
    " '3-country',\n",
    " '4-country',\n",
    " '5-country',\n",
    " '6-country',\n",
    " '7-country',\n",
    " '8-country']"
   ]
  },
  {
   "cell_type": "code",
   "execution_count": 1927,
   "metadata": {},
   "outputs": [],
   "source": [
    "train_df[\"production_countries_count\"] = train_df[\"production_countries_count\"].astype(\"category\").cat.set_categories(order_prod_country, ordered=True)\n",
    "train_df[\"production_countries_count\"] = train_df['production_countries_count'].astype(\"category\").cat.codes\n",
    "\n",
    "test_df[\"production_countries_count\"] = test_df[\"production_countries_count\"].astype(\"category\").cat.set_categories(order_prod_country, ordered=True)\n",
    "test_df[\"production_countries_count\"] = test_df['production_countries_count'].astype(\"category\").cat.codes"
   ]
  },
  {
   "cell_type": "code",
   "execution_count": 1928,
   "metadata": {},
   "outputs": [],
   "source": [
    "train_df = train_df.drop([\"production_countries\", \"production_countries_processed\" ],1)\n",
    "test_df = test_df.drop([\"production_countries\", \"production_countries_processed\" ],1)"
   ]
  },
  {
   "cell_type": "markdown",
   "metadata": {},
   "source": [
    "### 1.13 \"release date\" "
   ]
  },
  {
   "cell_type": "code",
   "execution_count": 1929,
   "metadata": {},
   "outputs": [
    {
     "name": "stdout",
     "output_type": "stream",
     "text": [
      "The column has (2398,) total categories\n",
      "The column has 0 missing rows\n",
      "0.0016666666666666668 of the column is composed by one value\n"
     ]
    }
   ],
   "source": [
    "print(f\"The column has {train_df['release_date'].unique().shape} total categories\")\n",
    "print(f\"The column has {train_df['release_date'].isnull().sum()} missing rows\")\n",
    "print(f\"{train_df['release_date'].value_counts().max()/len(train_df['release_date'])} of the column is composed by one value\")"
   ]
  },
  {
   "cell_type": "markdown",
   "metadata": {},
   "source": [
    "Thanks to fast.ai we can easily transform release_date and to draw some interesting datapoints to form new columns."
   ]
  },
  {
   "cell_type": "code",
   "execution_count": 1930,
   "metadata": {},
   "outputs": [],
   "source": [
    "def add_datepart(df, fldname, drop=True):\n",
    "    fld = df[fldname]\n",
    "    if not np.issubdtype(fld.dtype, np.datetime64):\n",
    "        df[fldname] = fld = pd.to_datetime(fld, infer_datetime_format=True)\n",
    "    targ_pre = re.sub('[Dd]ate$', '', fldname)\n",
    "    for n in ('Year', 'Month', 'Week', 'Day', 'Dayofweek', 'Dayofyear',\n",
    "            'Is_month_end', 'Is_month_start', 'Is_quarter_end', 'Is_quarter_start', 'Is_year_end', 'Is_year_start'):\n",
    "        df[targ_pre+n] = getattr(fld.dt,n.lower())\n",
    "    df[targ_pre+'Elapsed'] = fld.astype(np.int64) // 10**9\n",
    "    if drop: df.drop(fldname, axis=1, inplace=True)"
   ]
  },
  {
   "cell_type": "code",
   "execution_count": 1931,
   "metadata": {},
   "outputs": [],
   "source": [
    "add_datepart(train_df, 'release_date')\n",
    "add_datepart(test_df, 'release_date')"
   ]
  },
  {
   "cell_type": "code",
   "execution_count": 1932,
   "metadata": {},
   "outputs": [
    {
     "data": {
      "text/plain": [
       "Index(['id', 'belongs_to_collection', 'budget', 'original_language',\n",
       "       'overview', 'popularity', 'runtime', 'spoken_languages', 'status',\n",
       "       'tagline', 'title', 'Keywords', 'cast', 'crew', 'revenue',\n",
       "       'budget_is_zero', 'genre_count', 'action', 'adventure', 'animation',\n",
       "       'comedy', 'crime', 'documentary', 'drama', 'family', 'fantasy',\n",
       "       'foreign', 'history', 'horror', 'music', 'mystery', 'romance',\n",
       "       'sciencefiction', 'thriller', 'tvmovie', 'war', 'western',\n",
       "       'has_homepage', 'main_is_english', 'title_appears_twice',\n",
       "       'production_companies_count', 'has_production_company',\n",
       "       'production_countries_count', 'release_Year', 'release_Month',\n",
       "       'release_Week', 'release_Day', 'release_Dayofweek', 'release_Dayofyear',\n",
       "       'release_Is_month_end', 'release_Is_month_start',\n",
       "       'release_Is_quarter_end', 'release_Is_quarter_start',\n",
       "       'release_Is_year_end', 'release_Is_year_start', 'release_Elapsed'],\n",
       "      dtype='object')"
      ]
     },
     "execution_count": 1932,
     "metadata": {},
     "output_type": "execute_result"
    }
   ],
   "source": [
    "train_df.columns"
   ]
  },
  {
   "cell_type": "code",
   "execution_count": 1933,
   "metadata": {},
   "outputs": [
    {
     "data": {
      "text/plain": [
       "14    True\n",
       "34    True\n",
       "dtype: bool"
      ]
     },
     "execution_count": 1933,
     "metadata": {},
     "output_type": "execute_result"
    }
   ],
   "source": [
    "dt = train_df.columns.isin(test_df.columns) == False\n",
    "dt = pd.Series(dt)\n",
    "dt[dt == True]"
   ]
  },
  {
   "cell_type": "code",
   "execution_count": 1934,
   "metadata": {},
   "outputs": [
    {
     "data": {
      "text/plain": [
       "'horror'"
      ]
     },
     "execution_count": 1934,
     "metadata": {},
     "output_type": "execute_result"
    }
   ],
   "source": [
    "train_df.columns[28]"
   ]
  },
  {
   "cell_type": "markdown",
   "metadata": {},
   "source": [
    "We noticed that thanks to the helper function created by fast.ai we were able to capture valuable information about the date."
   ]
  },
  {
   "cell_type": "markdown",
   "metadata": {},
   "source": [
    "### 1.14 \"runtime\""
   ]
  },
  {
   "cell_type": "code",
   "execution_count": 1935,
   "metadata": {},
   "outputs": [
    {
     "data": {
      "text/plain": [
       "90.0     100\n",
       "100.0     99\n",
       "105.0     91\n",
       "95.0      89\n",
       "98.0      85\n",
       "Name: runtime, dtype: int64"
      ]
     },
     "execution_count": 1935,
     "metadata": {},
     "output_type": "execute_result"
    }
   ],
   "source": [
    "train_df['runtime'].value_counts().head()"
   ]
  },
  {
   "cell_type": "code",
   "execution_count": 1936,
   "metadata": {},
   "outputs": [
    {
     "name": "stdout",
     "output_type": "stream",
     "text": [
      "The column has (140,) total categories\n",
      "The column has 2 missing rows\n",
      "0.03333333333333333 of the column is composed by one value\n"
     ]
    }
   ],
   "source": [
    "print(f\"The column has {train_df['runtime'].unique().shape} total categories\")\n",
    "print(f\"The column has {train_df['runtime'].isnull().sum()} missing rows\")\n",
    "print(f\"{train_df['runtime'].value_counts().max()/len(train_df['runtime'])} of the column is composed by one value\")"
   ]
  },
  {
   "cell_type": "markdown",
   "metadata": {},
   "source": [
    "We notice that there are two missing values. Let's look at them in more detail"
   ]
  },
  {
   "cell_type": "markdown",
   "metadata": {},
   "source": [
    "It looks like both columns have quiet some missing data. Thus, we decide to remove these two columns from our training data."
   ]
  },
  {
   "cell_type": "code",
   "execution_count": 1937,
   "metadata": {},
   "outputs": [],
   "source": [
    "train_df[\"runtime\"] = train_df[\"runtime\"].fillna(0)\n",
    "test_df[\"runtime\"] = test_df['runtime'].fillna(0)"
   ]
  },
  {
   "cell_type": "code",
   "execution_count": 1938,
   "metadata": {},
   "outputs": [
    {
     "name": "stdout",
     "output_type": "stream",
     "text": [
      "The column has 0 missing rows\n"
     ]
    }
   ],
   "source": [
    "print(f\"The column has {train_df['runtime'].isnull().sum()} missing rows\")"
   ]
  },
  {
   "cell_type": "markdown",
   "metadata": {},
   "source": [
    "### 1.15 \"spoken_languages\""
   ]
  },
  {
   "cell_type": "code",
   "execution_count": 1939,
   "metadata": {},
   "outputs": [
    {
     "name": "stdout",
     "output_type": "stream",
     "text": [
      "The column has (402,) total categories\n",
      "The column has 20 missing values\n",
      "0.6056666666666667 of the column is composed by one value\n"
     ]
    }
   ],
   "source": [
    "print(f\"The column has {train_df['spoken_languages'].unique().shape} total categories\")\n",
    "print(f\"The column has {train_df['spoken_languages'].isnull().sum()} missing values\")\n",
    "print(f\"{train_df['spoken_languages'].value_counts().max()/len(train_df['spoken_languages'])} of the column is composed by one value\")"
   ]
  },
  {
   "cell_type": "code",
   "execution_count": 1940,
   "metadata": {},
   "outputs": [],
   "source": [
    "def language_preprocessing(elem):\n",
    "    string = str(elem)\n",
    "    str1 = string.replace(']','').replace('[','').replace('{','').replace('}','').replace(' ','').replace(\"name\", \"\").replace(\"iso_3166_1\", \"\").replace(\":\", \"\").replace(\"\\'\", \"\").replace(\"iso_639_1\", \"\")\n",
    "    ll = str1.split(\",\")[0::2]\n",
    "    return ll\n",
    "\n",
    "train_df[\"spoken_languages_processed\"] = train_df.spoken_languages.fillna(\"NaN\").apply(lambda elem: language_preprocessing(elem))\n",
    "test_df[\"spoken_languages_processed\"] = test_df.spoken_languages.fillna(\"NaN\").apply(lambda elem: language_preprocessing(elem))"
   ]
  },
  {
   "cell_type": "code",
   "execution_count": 1941,
   "metadata": {},
   "outputs": [
    {
     "data": {
      "text/plain": [
       "0        [en]\n",
       "1        [en]\n",
       "2        [en]\n",
       "3    [en, hi]\n",
       "4        [ko]\n",
       "Name: spoken_languages_processed, dtype: object"
      ]
     },
     "execution_count": 1941,
     "metadata": {},
     "output_type": "execute_result"
    }
   ],
   "source": [
    "train_df[\"spoken_languages_processed\"].head()"
   ]
  },
  {
   "cell_type": "code",
   "execution_count": 1942,
   "metadata": {},
   "outputs": [],
   "source": [
    "count_comp = []\n",
    "for row in train_df[\"spoken_languages_processed\"]:\n",
    "    if row[0] != \"NaN\" and len(row) == 1 :\n",
    "        row = \"1-language\"\n",
    "        count_comp.append(row)\n",
    "    elif row[0] != \"NaN\" and len(row) == 2:\n",
    "        row = \"2-languages\"\n",
    "        count_comp.append(row)\n",
    "    elif row[0] != \"NaN\" and len(row) == 3:\n",
    "        row = \"3-languages\"\n",
    "        count_comp.append(row)\n",
    "    elif row[0] != \"NaN\" and len(row) == 4:\n",
    "        row = \"4-languages\"\n",
    "        count_comp.append(row)\n",
    "    elif row[0] != \"NaN\" and len(row) == 5:\n",
    "        row = \"5-languages\"\n",
    "        count_comp.append(row)\n",
    "    elif row[0] != \"NaN\" and len(row) == 6:\n",
    "        row = \"6-languages\"\n",
    "        count_comp.append(row)\n",
    "    elif row[0] != \"NaN\" and len(row) == 7:\n",
    "        row = \"7-languages\"\n",
    "        count_comp.append(row)\n",
    "    elif row[0] != \"NaN\" and len(row) == 8:\n",
    "        row = \"8-languages\"\n",
    "        count_comp.append(row)\n",
    "    elif row[0] == \"NaN\":\n",
    "        row = \"0-languages\"\n",
    "        count_comp.append(row)\n",
    "    else:\n",
    "        row = \">8-languages\"\n",
    "        count_comp.append(row)\n",
    "\n",
    "train_df[\"spoken_languages_count\"] = count_comp"
   ]
  },
  {
   "cell_type": "code",
   "execution_count": 1943,
   "metadata": {},
   "outputs": [],
   "source": [
    "count_comp = []\n",
    "for row in test_df[\"spoken_languages_processed\"]:\n",
    "    if row[0] != \"NaN\" and len(row) == 1 :\n",
    "        row = \"1-language\"\n",
    "        count_comp.append(row)\n",
    "    elif row[0] != \"NaN\" and len(row) == 2:\n",
    "        row = \"2-languages\"\n",
    "        count_comp.append(row)\n",
    "    elif row[0] != \"NaN\" and len(row) == 3:\n",
    "        row = \"3-languages\"\n",
    "        count_comp.append(row)\n",
    "    elif row[0] != \"NaN\" and len(row) == 4:\n",
    "        row = \"4-languages\"\n",
    "        count_comp.append(row)\n",
    "    elif row[0] != \"NaN\" and len(row) == 5:\n",
    "        row = \"5-languages\"\n",
    "        count_comp.append(row)\n",
    "    elif row[0] != \"NaN\" and len(row) == 6:\n",
    "        row = \"6-languages\"\n",
    "        count_comp.append(row)\n",
    "    elif row[0] != \"NaN\" and len(row) == 7:\n",
    "        row = \"7-languages\"\n",
    "        count_comp.append(row)\n",
    "    elif row[0] != \"NaN\" and len(row) == 8:\n",
    "        row = \"8-languages\"\n",
    "        count_comp.append(row)\n",
    "    elif row[0] == \"NaN\":\n",
    "        row = \"0-languages\"\n",
    "        count_comp.append(row)\n",
    "    else:\n",
    "        row = \">8-languages\"\n",
    "        count_comp.append(row)\n",
    "\n",
    "test_df[\"spoken_languages_count\"] = count_comp"
   ]
  },
  {
   "cell_type": "code",
   "execution_count": 1944,
   "metadata": {},
   "outputs": [],
   "source": [
    "order_prod_lang = [  '0-languages',\n",
    " '1-language',\n",
    " '2-languages',\n",
    " '3-languages',\n",
    " '4-languages',\n",
    " '5-languages',\n",
    " '6-languages',\n",
    " '7-languages',\n",
    " '8-languages',\n",
    " '>8-languages']"
   ]
  },
  {
   "cell_type": "code",
   "execution_count": 1945,
   "metadata": {},
   "outputs": [],
   "source": [
    "train_df[\"spoken_languages_count\"] = train_df[\"spoken_languages_count\"].astype(\"category\").cat.set_categories(order_prod_lang, ordered=True)\n",
    "train_df[\"spoken_languages_count\"] = train_df['spoken_languages_count'].astype(\"category\").cat.codes\n",
    "\n",
    "test_df[\"spoken_languages_count\"] = test_df[\"spoken_languages_count\"].astype(\"category\").cat.set_categories(order_prod_lang, ordered=True)\n",
    "test_df[\"spoken_languages_count\"] = test_df['spoken_languages_count'].astype(\"category\").cat.codes\n"
   ]
  },
  {
   "cell_type": "markdown",
   "metadata": {},
   "source": [
    "We drop the other column."
   ]
  },
  {
   "cell_type": "code",
   "execution_count": 1946,
   "metadata": {},
   "outputs": [],
   "source": [
    "train_df = train_df.drop(['spoken_languages',\"spoken_languages_processed\"],1)\n",
    "test_df = test_df.drop(['spoken_languages',\"spoken_languages_processed\"],1)"
   ]
  },
  {
   "cell_type": "markdown",
   "metadata": {},
   "source": [
    "### 1.16 \"status\""
   ]
  },
  {
   "cell_type": "code",
   "execution_count": 1947,
   "metadata": {},
   "outputs": [
    {
     "data": {
      "text/plain": [
       "Released    2996\n",
       "Rumored        4\n",
       "Name: status, dtype: int64"
      ]
     },
     "execution_count": 1947,
     "metadata": {},
     "output_type": "execute_result"
    }
   ],
   "source": [
    "train_df[\"status\"].value_counts().head()"
   ]
  },
  {
   "cell_type": "code",
   "execution_count": 1948,
   "metadata": {},
   "outputs": [
    {
     "name": "stdout",
     "output_type": "stream",
     "text": [
      "The column has (2,) total categories\n",
      "The column has 0 missing values\n",
      "0.9986666666666667 of the column is composed by one value\n"
     ]
    }
   ],
   "source": [
    "print(f\"The column has {train_df['status'].unique().shape} total categories\")\n",
    "print(f\"The column has {train_df['status'].isnull().sum()} missing values\")\n",
    "print(f\"{train_df['status'].value_counts().max()/len(train_df['status'])} of the column is composed by one value\")"
   ]
  },
  {
   "cell_type": "code",
   "execution_count": 1949,
   "metadata": {},
   "outputs": [],
   "source": [
    "lst = []\n",
    "for row in train_df[\"status\"]:\n",
    "    if row == \"Released\":\n",
    "        row = 1\n",
    "        lst.append(row)\n",
    "    else:\n",
    "        row = 0\n",
    "        lst.append(row)\n",
    "train_df[\"status\"] = lst"
   ]
  },
  {
   "cell_type": "code",
   "execution_count": 1950,
   "metadata": {},
   "outputs": [],
   "source": [
    "lst = []\n",
    "for row in test_df[\"status\"]:\n",
    "    if row == \"Released\":\n",
    "        row = 1\n",
    "        lst.append(row)\n",
    "    else:\n",
    "        row = 0\n",
    "        lst.append(row)\n",
    "test_df[\"status\"] = lst"
   ]
  },
  {
   "cell_type": "markdown",
   "metadata": {},
   "source": [
    "### 1.17 \"tagline\""
   ]
  },
  {
   "cell_type": "code",
   "execution_count": 1951,
   "metadata": {},
   "outputs": [
    {
     "data": {
      "text/plain": [
       "Based on a true story.                             3\n",
       "Who is John Galt?                                  2\n",
       "Eight legs, two fangs, and an attitude.            1\n",
       "The system is perfect until it comes after you.    1\n",
       "6 reels of Joy.                                    1\n",
       "Name: tagline, dtype: int64"
      ]
     },
     "execution_count": 1951,
     "metadata": {},
     "output_type": "execute_result"
    }
   ],
   "source": [
    "train_df[\"tagline\"].value_counts().head()"
   ]
  },
  {
   "cell_type": "code",
   "execution_count": 1952,
   "metadata": {},
   "outputs": [
    {
     "name": "stdout",
     "output_type": "stream",
     "text": [
      "The column has (2401,) total categories\n",
      "The column has 597 missing values\n",
      "0.001 of the column is composed by one value\n"
     ]
    }
   ],
   "source": [
    "print(f\"The column has {train_df['tagline'].unique().shape} total categories\")\n",
    "print(f\"The column has {train_df['tagline'].isnull().sum()} missing values\")\n",
    "print(f\"{train_df['tagline'].value_counts().max()/len(train_df['tagline'])} of the column is composed by one value\")"
   ]
  },
  {
   "cell_type": "code",
   "execution_count": 1953,
   "metadata": {},
   "outputs": [],
   "source": [
    "lst = []\n",
    "for row in train_df[\"tagline\"]:\n",
    "    if str(type(row)) == \"<class 'str'>\":\n",
    "        row = row.strip()\n",
    "        row = re.sub('[^A-Za-z0-9]+', '', row)\n",
    "        row = len(row)\n",
    "        lst.append(row)\n",
    "    else:\n",
    "        row = 0\n",
    "        lst.append(row)\n",
    "train_df[\"tagline\"] = lst"
   ]
  },
  {
   "cell_type": "code",
   "execution_count": 1954,
   "metadata": {},
   "outputs": [],
   "source": [
    "lst = []\n",
    "for row in test_df[\"tagline\"]:\n",
    "    if str(type(row)) == \"<class 'str'>\":\n",
    "        row = row.strip()\n",
    "        row = re.sub('[^A-Za-z0-9]+', '', row)\n",
    "        row = len(row)\n",
    "        lst.append(row)\n",
    "    else:\n",
    "        row = 0\n",
    "        lst.append(row)\n",
    "test_df[\"tagline\"] = lst"
   ]
  },
  {
   "cell_type": "code",
   "execution_count": 1955,
   "metadata": {},
   "outputs": [
    {
     "name": "stdout",
     "output_type": "stream",
     "text": [
      "The maxium length of the desciption is 181\n",
      "The minimum length of the desciption is 0\n"
     ]
    },
    {
     "data": {
      "image/png": "[encoded data removed]",
      "text/plain": [
       "<Figure size 432x288 with 1 Axes>"
      ]
     },
     "metadata": {},
     "output_type": "display_data"
    }
   ],
   "source": [
    "train_df['tagline'].plot.hist(bins = 25)\n",
    "print(f\"The maxium length of the desciption is {train_df['tagline'].max()}\")\n",
    "print(f\"The minimum length of the desciption is {train_df['tagline'].min()}\")"
   ]
  },
  {
   "cell_type": "code",
   "execution_count": 1956,
   "metadata": {},
   "outputs": [],
   "source": [
    "lst = []\n",
    "for row in train_df['tagline']:\n",
    "    if row <= 20:\n",
    "        row = \"0-10\"\n",
    "        lst.append(row)\n",
    "    elif row > 20 and row <= 40:\n",
    "        row = \"20-40\"\n",
    "        lst.append(row)\n",
    "    elif row >40 and row <= 60:\n",
    "        row = \"40-60\"\n",
    "        lst.append(row)\n",
    "    elif row >60 and row <= 80:\n",
    "        row = \"60-80\"\n",
    "        lst.append(row)\n",
    "    elif row >80 and row <= 100:\n",
    "        row = \"80-100\"\n",
    "        lst.append(row)\n",
    "    elif row >100 and row <= 120:\n",
    "        row = \"100-120\"\n",
    "        lst.append(row)\n",
    "    elif row >120 and row <= 140:\n",
    "        row = \"120-140\"\n",
    "        lst.append(row)\n",
    "    elif row >140 and row <= 160:\n",
    "        row = \"140-160\"\n",
    "        lst.append(row)\n",
    "    else:\n",
    "        row = \">160\"\n",
    "        lst.append(row)\n",
    "train_df['tagline'] = lst"
   ]
  },
  {
   "cell_type": "code",
   "execution_count": 1957,
   "metadata": {},
   "outputs": [],
   "source": [
    "lst = []\n",
    "for row in test_df['tagline']:\n",
    "    if row <= 20:\n",
    "        row = \"0-10\"\n",
    "        lst.append(row)\n",
    "    elif row > 20 and row <= 40:\n",
    "        row = \"20-40\"\n",
    "        lst.append(row)\n",
    "    elif row >40 and row <= 60:\n",
    "        row = \"40-60\"\n",
    "        lst.append(row)\n",
    "    elif row >60 and row <= 80:\n",
    "        row = \"60-80\"\n",
    "        lst.append(row)\n",
    "    elif row >80 and row <= 100:\n",
    "        row = \"80-100\"\n",
    "        lst.append(row)\n",
    "    elif row >100 and row <= 120:\n",
    "        row = \"100-120\"\n",
    "        lst.append(row)\n",
    "    elif row >120 and row <= 140:\n",
    "        row = \"120-140\"\n",
    "        lst.append(row)\n",
    "    elif row >140 and row <= 160:\n",
    "        row = \"140-160\"\n",
    "        lst.append(row)\n",
    "    else:\n",
    "        row = \">160\"\n",
    "        lst.append(row)\n",
    "test_df['tagline'] = lst"
   ]
  },
  {
   "cell_type": "code",
   "execution_count": 1958,
   "metadata": {},
   "outputs": [
    {
     "name": "stdout",
     "output_type": "stream",
     "text": [
      "The column has (8,) total categories\n",
      "The column has 0 missing values\n",
      "0.37866666666666665 of the column is composed by one value\n"
     ]
    }
   ],
   "source": [
    "print(f\"The column has {train_df['tagline'].unique().shape} total categories\")\n",
    "print(f\"The column has {train_df['tagline'].isnull().sum()} missing values\")\n",
    "print(f\"{train_df['tagline'].value_counts().max()/len(train_df['tagline'])} of the column is composed by one value\")"
   ]
  },
  {
   "cell_type": "code",
   "execution_count": 1959,
   "metadata": {},
   "outputs": [],
   "source": [
    "tag_order = ['0-10', '20-40','40-60', '60-80', '80-100', '100-120', '120-140', '>160']"
   ]
  },
  {
   "cell_type": "code",
   "execution_count": 1960,
   "metadata": {},
   "outputs": [],
   "source": [
    "train_df[\"tagline\"] = train_df[\"tagline\"].astype(\"category\").cat.set_categories(tag_order, ordered=True)\n",
    "train_df[\"tagline\"] = train_df['tagline'].astype(\"category\").cat.codes\n",
    "\n",
    "\n",
    "test_df[\"tagline\"] = test_df[\"tagline\"].astype(\"category\").cat.set_categories(tag_order, ordered=True)\n",
    "test_df[\"tagline\"] = test_df['tagline'].astype(\"category\").cat.codes"
   ]
  },
  {
   "cell_type": "markdown",
   "metadata": {},
   "source": [
    "# Don't forget these 5 columns"
   ]
  },
  {
   "cell_type": "code",
   "execution_count": 1961,
   "metadata": {},
   "outputs": [],
   "source": [
    "train_df = train_df.drop([\"Keywords\",\"title\", \"cast\", \"crew\",\"id\"],1)\n",
    "test_df = test_df.drop([\"Keywords\", \"title\",\"cast\", \"crew\"],1)"
   ]
  },
  {
   "cell_type": "markdown",
   "metadata": {},
   "source": [
    "# Model"
   ]
  },
  {
   "cell_type": "code",
   "execution_count": 1962,
   "metadata": {},
   "outputs": [
    {
     "data": {
      "text/plain": [
       "((3000, 51), (4398, 50))"
      ]
     },
     "execution_count": 1962,
     "metadata": {},
     "output_type": "execute_result"
    }
   ],
   "source": [
    "train_df.shape, test_df.shape"
   ]
  },
  {
   "cell_type": "markdown",
   "metadata": {},
   "source": [
    "We notice a discrpeancy between the columns of the two datasets. Let's find out why."
   ]
  },
  {
   "cell_type": "code",
   "execution_count": 1963,
   "metadata": {},
   "outputs": [
    {
     "data": {
      "text/plain": [
       "8     True\n",
       "28    True\n",
       "dtype: bool"
      ]
     },
     "execution_count": 1963,
     "metadata": {},
     "output_type": "execute_result"
    }
   ],
   "source": [
    "dt = train_df.columns.isin(test_df.columns) == False\n",
    "dt = pd.Series(dt)\n",
    "dt[dt == True]"
   ]
  },
  {
   "cell_type": "code",
   "execution_count": 1964,
   "metadata": {},
   "outputs": [
    {
     "data": {
      "text/plain": [
       "('revenue', 'tvmovie')"
      ]
     },
     "execution_count": 1964,
     "metadata": {},
     "output_type": "execute_result"
    }
   ],
   "source": [
    "train_df.columns[8], train_df.columns[28]"
   ]
  },
  {
   "cell_type": "code",
   "execution_count": 1965,
   "metadata": {},
   "outputs": [
    {
     "data": {
      "text/html": [
       "<div>\n",
       "<style scoped>\n",
       "    .dataframe tbody tr th:only-of-type {\n",
       "        vertical-align: middle;\n",
       "    }\n",
       "\n",
       "    .dataframe tbody tr th {\n",
       "        vertical-align: top;\n",
       "    }\n",
       "\n",
       "    .dataframe thead th {\n",
       "        text-align: right;\n",
       "    }\n",
       "</style>\n",
       "<table border=\"1\" class=\"dataframe\">\n",
       "  <thead>\n",
       "    <tr style=\"text-align: right;\">\n",
       "      <th></th>\n",
       "      <th>belongs_to_collection</th>\n",
       "      <th>budget</th>\n",
       "      <th>original_language</th>\n",
       "      <th>overview</th>\n",
       "      <th>popularity</th>\n",
       "      <th>runtime</th>\n",
       "      <th>status</th>\n",
       "      <th>tagline</th>\n",
       "      <th>revenue</th>\n",
       "      <th>budget_is_zero</th>\n",
       "      <th>...</th>\n",
       "      <th>release_Dayofweek</th>\n",
       "      <th>release_Dayofyear</th>\n",
       "      <th>release_Is_month_end</th>\n",
       "      <th>release_Is_month_start</th>\n",
       "      <th>release_Is_quarter_end</th>\n",
       "      <th>release_Is_quarter_start</th>\n",
       "      <th>release_Is_year_end</th>\n",
       "      <th>release_Is_year_start</th>\n",
       "      <th>release_Elapsed</th>\n",
       "      <th>spoken_languages_count</th>\n",
       "    </tr>\n",
       "  </thead>\n",
       "  <tbody>\n",
       "    <tr>\n",
       "      <th>1693</th>\n",
       "      <td>0</td>\n",
       "      <td>15.424948</td>\n",
       "      <td>7</td>\n",
       "      <td>1</td>\n",
       "      <td>5.147819</td>\n",
       "      <td>89.0</td>\n",
       "      <td>1</td>\n",
       "      <td>1</td>\n",
       "      <td>42000000</td>\n",
       "      <td>0</td>\n",
       "      <td>...</td>\n",
       "      <td>6</td>\n",
       "      <td>91</td>\n",
       "      <td>True</td>\n",
       "      <td>False</td>\n",
       "      <td>True</td>\n",
       "      <td>False</td>\n",
       "      <td>False</td>\n",
       "      <td>False</td>\n",
       "      <td>828230400</td>\n",
       "      <td>1</td>\n",
       "    </tr>\n",
       "  </tbody>\n",
       "</table>\n",
       "<p>1 rows × 51 columns</p>\n",
       "</div>"
      ],
      "text/plain": [
       "      belongs_to_collection     budget  original_language  overview  \\\n",
       "1693                      0  15.424948                  7         1   \n",
       "\n",
       "      popularity  runtime  status  tagline   revenue  budget_is_zero  \\\n",
       "1693    5.147819     89.0       1        1  42000000               0   \n",
       "\n",
       "               ...            release_Dayofweek  release_Dayofyear  \\\n",
       "1693           ...                            6                 91   \n",
       "\n",
       "      release_Is_month_end  release_Is_month_start  release_Is_quarter_end  \\\n",
       "1693                  True                   False                    True   \n",
       "\n",
       "      release_Is_quarter_start  release_Is_year_end  release_Is_year_start  \\\n",
       "1693                     False                False                  False   \n",
       "\n",
       "      release_Elapsed  spoken_languages_count  \n",
       "1693        828230400                       1  \n",
       "\n",
       "[1 rows x 51 columns]"
      ]
     },
     "execution_count": 1965,
     "metadata": {},
     "output_type": "execute_result"
    }
   ],
   "source": [
    "train_df[train_df[\"tvmovie\"] == True]"
   ]
  },
  {
   "cell_type": "markdown",
   "metadata": {},
   "source": [
    "Eventually, we found that one row in train_df had a row with a feature that is not found in the test_df. We fix this by dropping the row and the column."
   ]
  },
  {
   "cell_type": "code",
   "execution_count": 1966,
   "metadata": {},
   "outputs": [],
   "source": [
    "train_df = train_df[train_df[\"tvmovie\"] == False].drop([\"tvmovie\"], 1)"
   ]
  },
  {
   "cell_type": "code",
   "execution_count": 1967,
   "metadata": {},
   "outputs": [
    {
     "data": {
      "text/plain": [
       "(2999, 50)"
      ]
     },
     "execution_count": 1967,
     "metadata": {},
     "output_type": "execute_result"
    }
   ],
   "source": [
    "train_df.shape"
   ]
  },
  {
   "cell_type": "code",
   "execution_count": 1968,
   "metadata": {},
   "outputs": [],
   "source": [
    "train_df[\"revenue\"] = np.log(train_df[\"revenue\"])"
   ]
  },
  {
   "cell_type": "markdown",
   "metadata": {},
   "source": [
    "# Hyperparamter Tuning\n",
    "\n",
    "Before we scale the model we are going to tune the hyperparamters by using 33% of the dataset validation set."
   ]
  },
  {
   "cell_type": "code",
   "execution_count": 1969,
   "metadata": {},
   "outputs": [],
   "source": [
    "from sklearn.model_selection import train_test_split"
   ]
  },
  {
   "cell_type": "code",
   "execution_count": 1970,
   "metadata": {},
   "outputs": [
    {
     "data": {
      "text/plain": [
       "((2009, 49), (2009,), (990, 49), (990,))"
      ]
     },
     "execution_count": 1970,
     "metadata": {},
     "output_type": "execute_result"
    }
   ],
   "source": [
    "X = train_df.drop([\"revenue\"],1)\n",
    "y = train_df[\"revenue\"]\n",
    "\n",
    "X_train, X_test, y_train, y_test = train_test_split(X, y, test_size=0.33, random_state=1)\n",
    "\n",
    "X_train.shape, y_train.shape, X_test.shape, y_test.shape"
   ]
  },
  {
   "cell_type": "code",
   "execution_count": 1971,
   "metadata": {},
   "outputs": [],
   "source": [
    "from sklearn.neighbors import KNeighborsRegressor"
   ]
  },
  {
   "cell_type": "code",
   "execution_count": 1972,
   "metadata": {},
   "outputs": [
    {
     "name": "stdout",
     "output_type": "stream",
     "text": [
      "[1.0032786751258247, 2.192242757402596, 0.8983979305499307, 0.4324131057208035]\n"
     ]
    }
   ],
   "source": [
    "m = RandomForestRegressor(n_jobs = -1,random_state= 1)\n",
    "m.fit(X_train, y_train)\n",
    "print_score(m)"
   ]
  },
  {
   "cell_type": "code",
   "execution_count": 1973,
   "metadata": {},
   "outputs": [
    {
     "name": "stdout",
     "output_type": "stream",
     "text": [
      "[1.0241622539366044, 2.209268823510351, 0.8941241469682262, 0.4235625358450421]\n",
      "9 None\n",
      "[0.9825381971074992, 2.155467220629318, 0.9025552878303387, 0.4512962650413911]\n",
      "12 None\n",
      "[0.9546791683926777, 2.13038158771225, 0.9080028690703127, 0.46399372875181266]\n",
      "14 None\n",
      "[0.9466888775954231, 2.110481995334939, 0.9095363845611268, 0.4739604785052295]\n",
      "16 None\n",
      "[0.930006990831931, 2.1101071399032234, 0.9126964673309317, 0.47414732801204607]\n",
      "18 None\n",
      "[0.906980129357439, 2.1035793238190146, 0.9169661957372031, 0.4773958454179422]\n",
      "20 None\n",
      "[0.8996934737386686, 2.10457298981975, 0.918295019343928, 0.4769020046356143]\n",
      "23 None\n",
      "[0.901224056944517, 2.1021291712595414, 0.918016785368783, 0.4781161363247928]\n",
      "25 None\n",
      "[0.8882555573393468, 2.087917186046956, 0.9203592653040625, 0.48514894245895357]\n",
      "28 None\n",
      "[0.8761498397179905, 2.092297454465076, 0.9225152630776138, 0.48298645111667293]\n",
      "31 None\n",
      "[0.8744524594041551, 2.0870392675412477, 0.9228151973173834, 0.4855818161832339]\n",
      "34 None\n",
      "[0.8656495363761698, 2.0816976231710784, 0.9243613806974432, 0.48821168767491163]\n",
      "37 None\n",
      "[0.8632534926990313, 2.083977366352451, 0.9247795236262356, 0.4870901176876157]\n",
      "50 None\n",
      "[0.8267213244233357, 2.0674702634787865, 0.9310113461089715, 0.4951834149592832]\n",
      "200 None\n",
      "[0.8182838004643757, 2.057458882402769, 0.9324123574972479, 0.5000605587160203]\n",
      "1000 None\n"
     ]
    }
   ],
   "source": [
    "estimators = [9,12,14,16,18,20,23,25,28,31,34,37,50,200,1000]\n",
    "for i in estimators:\n",
    "    m = RandomForestRegressor(n_jobs = -1, n_estimators= i,random_state= 1)\n",
    "    m.fit(X_train, y_train)\n",
    "    print(i, print_score(m))"
   ]
  },
  {
   "cell_type": "markdown",
   "metadata": {},
   "source": [
    "We have a clear overfitting problem. Howevwer, we also notice that more richness dictated by the amount of trees decreases the error margin. So far the lowest error has been achieved between 20 - 50 trees. Let's try trimming down the specturm."
   ]
  },
  {
   "cell_type": "code",
   "execution_count": 1974,
   "metadata": {},
   "outputs": [
    {
     "name": "stdout",
     "output_type": "stream",
     "text": [
      "[0.9069801293574389, 2.1035793238190146, 0.9169661957372031, 0.47739584541794233]\n",
      "20 None\n",
      "[0.9004076363374942, 2.1040270876691194, 0.9181652555922966, 0.47717334070853834]\n",
      "22 None\n",
      "[0.8988847673517926, 2.10705240123125, 0.9184418374438553, 0.4756687481671259]\n",
      "24 None\n",
      "[0.8953946094522989, 2.0923514427869105, 0.9190739501672861, 0.4829597693903911]\n",
      "26 None\n",
      "[0.8882555573393467, 2.087917186046956, 0.9203592653040625, 0.48514894245895357]\n",
      "28 None\n",
      "[0.8813186204211688, 2.092724242154881, 0.921598335493998, 0.48277550833479965]\n",
      "30 None\n",
      "[0.878181359092545, 2.090413240067471, 0.9221555204134707, 0.4839172229145069]\n",
      "32 None\n",
      "[0.874452459404155, 2.0870392675412477, 0.9228151973173834, 0.4855818161832339]\n",
      "34 None\n",
      "[0.8712325479555583, 2.0813977650899043, 0.9233825710183863, 0.488359118124698]\n",
      "36 None\n",
      "[0.8622496129850272, 2.084403365090962, 0.9249543700745092, 0.4868804020748393]\n",
      "38 None\n",
      "[0.8589167669074893, 2.0855514925766743, 0.925533395323938, 0.48631497508063326]\n",
      "40 None\n",
      "[0.8597079025313723, 2.0872517485326743, 0.9253961519540236, 0.4854770652554323]\n",
      "42 None\n",
      "[0.8577972728922503, 2.0844083029444116, 0.9257273852271298, 0.48687797095961527]\n",
      "44 None\n",
      "[0.8627331709862658, 2.0880965700696406, 0.9248701738282001, 0.48506047149678977]\n",
      "46 None\n",
      "[0.8622901030807462, 2.085753838256621, 0.9249473218229644, 0.48621529210624836]\n",
      "48 None\n"
     ]
    }
   ],
   "source": [
    "estimators = np.arange(20, 50, 2)\n",
    "for i in estimators:\n",
    "    m = RandomForestRegressor(n_jobs = -1, n_estimators= i,random_state= 1)\n",
    "    m.fit(X_train, y_train)\n",
    "    print(i, print_score(m))"
   ]
  },
  {
   "cell_type": "code",
   "execution_count": 1975,
   "metadata": {},
   "outputs": [],
   "source": [
    "preds = np.stack([t.predict(X_test) for t in m.estimators_])"
   ]
  },
  {
   "cell_type": "code",
   "execution_count": 1976,
   "metadata": {},
   "outputs": [
    {
     "data": {
      "image/png": "[encoded data removed]",
      "text/plain": [
       "<Figure size 432x288 with 1 Axes>"
      ]
     },
     "metadata": {},
     "output_type": "display_data"
    }
   ],
   "source": [
    "plt.plot([metrics.r2_score(y_test, np.mean(preds[:i+1], axis=0)) for i in np.arange(20, 50, 1)]);"
   ]
  },
  {
   "cell_type": "markdown",
   "metadata": {},
   "source": [
    "Overall we conclude that the best predictions are done with 15-30 trees"
   ]
  },
  {
   "cell_type": "code",
   "execution_count": 1977,
   "metadata": {},
   "outputs": [
    {
     "name": "stdout",
     "output_type": "stream",
     "text": [
      "[0.906980129357439, 2.1035793238190146, 0.9169661957372031, 0.47739584541794233]\n"
     ]
    }
   ],
   "source": [
    "m = RandomForestRegressor(n_jobs = -1, n_estimators= 20, random_state= 1)\n",
    "m.fit(X_train, y_train)\n",
    "print_score(m)"
   ]
  },
  {
   "cell_type": "markdown",
   "metadata": {},
   "source": [
    "Now that we have seen the amount of the trees let's try to tune some other hyperparamters to see if we can further overcome overfitting."
   ]
  },
  {
   "cell_type": "code",
   "execution_count": 1978,
   "metadata": {},
   "outputs": [
    {
     "name": "stdout",
     "output_type": "stream",
     "text": [
      "[2.6115794850287535, 2.409925026572228, 0.31156032969123626, 0.31409789679513045]\n",
      "1 None\n",
      "[2.404095234944515, 2.2217799455936613, 0.41660496803468006, 0.41701530184556423]\n",
      "2 None\n",
      "[2.2719715340894653, 2.1121749033632797, 0.4789670814779732, 0.47311622235911366]\n",
      "3 None\n",
      "[2.1397805283750335, 2.085087157514298, 0.5378341481079585, 0.4865436871658744]\n",
      "4 None\n",
      "[2.0075486650193435, 2.0601371604633045, 0.593190061070011, 0.4987581284716068]\n",
      "5 None\n",
      "[1.8506736749637207, 2.0521677653004406, 0.6542843133341268, 0.5026286166277839]\n",
      "6 None\n",
      "[1.6835803879768436, 2.0650512420582086, 0.7138939067278369, 0.4963640343378588]\n",
      "7 None\n",
      "[1.522894257796825, 2.0667599668331222, 0.7659013606655052, 0.4955302232675704]\n",
      "8 None\n",
      "[1.382422613906206, 2.0629304519770475, 0.8070960813135503, 0.4973979628629952]\n",
      "9 None\n",
      "[1.252279002909702, 2.075809639300458, 0.8417070442051312, 0.49110273166001867]\n",
      "10 None\n",
      "[1.1552548644998486, 2.087048144326307, 0.8652852954510576, 0.48557744023360117]\n",
      "11 None\n",
      "[1.0677456118016269, 2.0895542922003383, 0.8849212908664498, 0.4843412511582028]\n",
      "12 None\n",
      "[1.011851535423877, 2.0841531660864017, 0.8966541643645214, 0.4870035781449581]\n",
      "13 None\n",
      "[0.9795672430763024, 2.0944273985903563, 0.9031436946061363, 0.48193328300159977]\n",
      "14 None\n",
      "[0.9547592175564701, 2.1003793403725584, 0.9079874406365699, 0.4789846161833533]\n",
      "15 None\n",
      "[0.9342052739780281, 2.0951818259965855, 0.911906468447336, 0.4815599932689063]\n",
      "16 None\n",
      "[0.9264049713364699, 2.0999676719615943, 0.9133714300854152, 0.4791888312522573]\n",
      "17 None\n",
      "[0.9193329800139247, 2.099728026277856, 0.9146889923632933, 0.47930769310780985]\n",
      "18 None\n",
      "[0.9081139693228959, 2.0902871964109524, 0.9167584604394386, 0.4839794565417598]\n",
      "19 None\n"
     ]
    }
   ],
   "source": [
    "max_depth = list(range(1,20))\n",
    "for i in max_depth:\n",
    "    m = RandomForestRegressor(n_jobs = -1, n_estimators= 20,max_depth= i,random_state= 1)\n",
    "    m.fit(X_train, y_train)\n",
    "    print(i, print_score(m))"
   ]
  },
  {
   "cell_type": "markdown",
   "metadata": {},
   "source": [
    "This time we notice that altough we are dynamically testing for different depths the predictions of our model are more or less the same. Thus, we decided to try tuning a different hyperparamter as this one yields no apparent benefit."
   ]
  },
  {
   "cell_type": "code",
   "execution_count": 1979,
   "metadata": {},
   "outputs": [
    {
     "name": "stdout",
     "output_type": "stream",
     "text": [
      "[0.906980129357439, 2.1035793238190146, 0.9169661957372031, 0.4773958454179422]\n",
      "1 None\n",
      "[1.1430306273581665, 2.0752378477140683, 0.8681211577111834, 0.4913830493678835]\n",
      "2 None\n",
      "[1.3217562511576835, 2.060646935782493, 0.8236554113872117, 0.4985100359135892]\n",
      "3 None\n",
      "[1.455417952754734, 2.051778763505453, 0.78618663596579, 0.502817158740798]\n",
      "4 None\n",
      "[1.5557277162764156, 2.0430369202444543, 0.7556982549333027, 0.5070447446771242]\n",
      "5 None\n",
      "[1.6427047286899636, 2.037607708952261, 0.7276179991551748, 0.5096612437776605]\n",
      "6 None\n",
      "[1.705663432907028, 2.051305875404875, 0.7063391382395201, 0.5030463108888472]\n",
      "7 None\n",
      "[1.7589688672502681, 2.0511256509373093, 0.6876973303759779, 0.5031336301722926]\n",
      "8 None\n",
      "[1.7970893624279454, 2.0497324332388103, 0.6740141583054233, 0.5038083893402325]\n",
      "9 None\n"
     ]
    }
   ],
   "source": [
    "min_samples_leaves = list(range(1,10))\n",
    "for i in min_samples_leaves:\n",
    "    m = RandomForestRegressor(n_jobs = -1, n_estimators= 20, min_samples_leaf= i, random_state= 1)\n",
    "    m.fit(X_train, y_train)\n",
    "    print(i, print_score(m))"
   ]
  },
  {
   "cell_type": "markdown",
   "metadata": {},
   "source": [
    "According to our results, 4-8 are the best values for the min_sample_leave hyperparamter (with 5 being the best)."
   ]
  },
  {
   "cell_type": "markdown",
   "metadata": {},
   "source": [
    "Now we focus on adding another layer of randomness by utilising max_features."
   ]
  },
  {
   "cell_type": "code",
   "execution_count": 1980,
   "metadata": {},
   "outputs": [
    {
     "name": "stdout",
     "output_type": "stream",
     "text": [
      "[1.905052922603174, 2.088750890211823, 0.6336691606561804, 0.48473770089231505]\n",
      "log2 None\n",
      "[1.8066278436507555, 2.049978528838146, 0.67054447909755, 0.5036892343712531]\n",
      "sqrt None\n",
      "[1.9812231561382905, 2.133360390164594, 0.6037893165233119, 0.46249374108217356]\n",
      "0.1 None\n",
      "[1.7591421020743208, 2.065990645017323, 0.687635812104477, 0.4959057166762074]\n",
      "0.2 None\n",
      "[1.6781797427362806, 2.0453253909656564, 0.7157265239501338, 0.5059397764061071]\n",
      "0.3 None\n",
      "[1.6324782861676557, 2.041795679485667, 0.7309987996710101, 0.5076435496006882]\n",
      "0.4 None\n",
      "[1.626732199620482, 2.025718390360219, 0.7328891572510345, 0.5153667438277496]\n",
      "0.5 None\n",
      "[1.5798661835990442, 2.0146752115656312, 0.7480583334892816, 0.5206362855738833]\n",
      "0.6 None\n",
      "[1.5758550336254555, 2.062121983604316, 0.7493360276827797, 0.4977918280349599]\n",
      "0.7 None\n",
      "[1.5843337367018437, 2.060654487322768, 0.7466314351588703, 0.49850636034109197]\n",
      "0.8 None\n",
      "[1.5704493713420498, 2.045816938052743, 0.7510527855224837, 0.5057022757648832]\n",
      "0.9 None\n",
      "[1.5557277162764154, 2.0430369202444543, 0.7556982549333027, 0.5070447446771242]\n",
      "None None\n"
     ]
    }
   ],
   "source": [
    "max_features = [\"log2\", \"sqrt\", 0.1,0.2,0.3,0.4,0.5,0.6,0.7,0.8,0.9, None]\n",
    "for i in max_features:\n",
    "    m = RandomForestRegressor(n_jobs = -1, n_estimators= 20, min_samples_leaf= 5,max_features= i, random_state= 1)\n",
    "    m.fit(X_train, y_train)\n",
    "    print(i, print_score(m))"
   ]
  },
  {
   "cell_type": "markdown",
   "metadata": {},
   "source": [
    "Thus far, we have seen how hyperparamter tuning affects our model predictions and understood that the lack of extensive data does influence our predictions. \n",
    "- `n_jobs` allows us to run our model faster by deciding how many CPUs we are going to use.\n",
    "- `n_estimators` helps us decide the number of trees in our Random Foster.\n",
    "- `min_samples_leaf` helps us decide the depth of our tree. The idea is to create simpler trees, which predict worse when picking them singularly but in turn are less correlated with each other. This again enhances the generalisation capabilities of the model and makes it more accurate when predicting unseen data.\\n\",\n",
    "- `max_features` allows us to dictate the feature used at each split of each tree. This is a fairly new hyperparamter, but the results shown by the skelearn documentation [show an example](http://scikit-learn.org/stable/auto_examples/ensemble/plot_ensemble_oob.html) of different `max_features` methods with increasing numbers of trees - as you see, using a subset of features on each split requires using more trees, but results in better models:\n",
    "![sklearn max_features chart](http://scikit-learn.org/stable/_images/sphx_glr_plot_ensemble_oob_001.png)\n",
    "\n",
    "\n",
    "Our final model is the following:"
   ]
  },
  {
   "cell_type": "code",
   "execution_count": 1981,
   "metadata": {},
   "outputs": [
    {
     "name": "stdout",
     "output_type": "stream",
     "text": [
      "[1.5798661835990442, 2.0146752115656312, 0.7480583334892816, 0.5206362855738833]\n"
     ]
    }
   ],
   "source": [
    "m = RandomForestRegressor(n_jobs = -1, n_estimators= 20, min_samples_leaf= 5, max_features= 0.6,random_state= 1)\n",
    "m.fit(X_train, y_train)\n",
    "print_score(m)"
   ]
  },
  {
   "cell_type": "code",
   "execution_count": 1982,
   "metadata": {},
   "outputs": [],
   "source": [
    "fi = pd.Series(m.feature_importances_)"
   ]
  },
  {
   "cell_type": "code",
   "execution_count": 1983,
   "metadata": {},
   "outputs": [],
   "source": [
    "fi.index = train_df.columns.drop(\"revenue\",1).copy()"
   ]
  },
  {
   "cell_type": "code",
   "execution_count": 1984,
   "metadata": {},
   "outputs": [
    {
     "data": {
      "text/plain": [
       "budget                        0.400960\n",
       "popularity                    0.227661\n",
       "release_Elapsed               0.060266\n",
       "runtime                       0.044056\n",
       "release_Day                   0.031828\n",
       "release_Dayofyear             0.029352\n",
       "release_Year                  0.027045\n",
       "budget_is_zero                0.021889\n",
       "belongs_to_collection         0.021584\n",
       "production_companies_count    0.019443\n",
       "release_Week                  0.015499\n",
       "release_Dayofweek             0.012471\n",
       "overview                      0.009593\n",
       "release_Month                 0.006867\n",
       "production_countries_count    0.006740\n",
       "original_language             0.005881\n",
       "has_production_company        0.005750\n",
       "genre_count                   0.005324\n",
       "tagline                       0.005154\n",
       "drama                         0.005141\n",
       "dtype: float64"
      ]
     },
     "execution_count": 1984,
     "metadata": {},
     "output_type": "execute_result"
    }
   ],
   "source": [
    "fi.sort_values(ascending = False)[0:20]"
   ]
  },
  {
   "cell_type": "code",
   "execution_count": 1985,
   "metadata": {},
   "outputs": [
    {
     "data": {
      "image/png": "[encoded data removed]",
      "text/plain": [
       "<Figure size 432x288 with 1 Axes>"
      ]
     },
     "metadata": {},
     "output_type": "display_data"
    }
   ],
   "source": [
    "fi.sort_values(ascending=False)[:20].plot('barh', legend=False)\n",
    "plt.show()"
   ]
  },
  {
   "cell_type": "markdown",
   "metadata": {},
   "source": [
    "# Scaling"
   ]
  },
  {
   "cell_type": "code",
   "execution_count": 1986,
   "metadata": {},
   "outputs": [],
   "source": [
    "from sklearn.metrics import mean_squared_error"
   ]
  },
  {
   "cell_type": "code",
   "execution_count": 1991,
   "metadata": {},
   "outputs": [],
   "source": [
    "test_df[\"release_Day\"] = test_df[\"release_Day\"].fillna(0)\n",
    "test_df[\"release_Year\"] = test_df[\"release_Year\"].fillna(0)\n",
    "test_df[\"release_Month\"] = test_df[\"release_Month\"].fillna(0)\n",
    "test_df[\"release_Week\"] = test_df[\"release_Week\"].fillna(0)\n",
    "test_df[\"release_Dayofweek\"] = test_df[\"release_Dayofweek\"].fillna(0)\n",
    "test_df[\"release_Dayofyear\"] = test_df[\"release_Dayofyear\"].fillna(0)"
   ]
  },
  {
   "cell_type": "code",
   "execution_count": 2002,
   "metadata": {},
   "outputs": [],
   "source": [
    "def train_test_rfr(train_df, test_df, y):\n",
    "    \n",
    "    #Separating the training features\n",
    "    train_x = train_df.drop(y,1)\n",
    "    train_y = train_df[y]\n",
    "    ids = test_df[\"id\"]\n",
    "    test_x = test_df[train_x.columns]\n",
    "    \n",
    "    # Fit model using k nearest neighbors.\n",
    "    rfr = RandomForestRegressor(n_jobs = -1, n_estimators= 20, min_samples_leaf= 5, max_features= 0.6)\n",
    "    rfr.fit(train_x, train_y)\n",
    "    predictions = rfr.predict(test_x)\n",
    "    results = pd.DataFrame(predictions)\n",
    "    ids = pd.DataFrame(ids)\n",
    "    ids[\"revenue\"] = results\n",
    "    return ids"
   ]
  },
  {
   "cell_type": "code",
   "execution_count": 2003,
   "metadata": {},
   "outputs": [
    {
     "data": {
      "text/html": [
       "<div>\n",
       "<style scoped>\n",
       "    .dataframe tbody tr th:only-of-type {\n",
       "        vertical-align: middle;\n",
       "    }\n",
       "\n",
       "    .dataframe tbody tr th {\n",
       "        vertical-align: top;\n",
       "    }\n",
       "\n",
       "    .dataframe thead th {\n",
       "        text-align: right;\n",
       "    }\n",
       "</style>\n",
       "<table border=\"1\" class=\"dataframe\">\n",
       "  <thead>\n",
       "    <tr style=\"text-align: right;\">\n",
       "      <th></th>\n",
       "      <th>id</th>\n",
       "      <th>revenue</th>\n",
       "    </tr>\n",
       "  </thead>\n",
       "  <tbody>\n",
       "    <tr>\n",
       "      <th>0</th>\n",
       "      <td>3001</td>\n",
       "      <td>14.520053</td>\n",
       "    </tr>\n",
       "    <tr>\n",
       "      <th>1</th>\n",
       "      <td>3002</td>\n",
       "      <td>13.443628</td>\n",
       "    </tr>\n",
       "    <tr>\n",
       "      <th>2</th>\n",
       "      <td>3003</td>\n",
       "      <td>15.541743</td>\n",
       "    </tr>\n",
       "    <tr>\n",
       "      <th>3</th>\n",
       "      <td>3004</td>\n",
       "      <td>14.729365</td>\n",
       "    </tr>\n",
       "    <tr>\n",
       "      <th>4</th>\n",
       "      <td>3005</td>\n",
       "      <td>12.973732</td>\n",
       "    </tr>\n",
       "    <tr>\n",
       "      <th>5</th>\n",
       "      <td>3006</td>\n",
       "      <td>13.820456</td>\n",
       "    </tr>\n",
       "    <tr>\n",
       "      <th>6</th>\n",
       "      <td>3007</td>\n",
       "      <td>14.337491</td>\n",
       "    </tr>\n",
       "    <tr>\n",
       "      <th>7</th>\n",
       "      <td>3008</td>\n",
       "      <td>17.426410</td>\n",
       "    </tr>\n",
       "    <tr>\n",
       "      <th>8</th>\n",
       "      <td>3009</td>\n",
       "      <td>16.869522</td>\n",
       "    </tr>\n",
       "    <tr>\n",
       "      <th>9</th>\n",
       "      <td>3010</td>\n",
       "      <td>19.395320</td>\n",
       "    </tr>\n",
       "    <tr>\n",
       "      <th>10</th>\n",
       "      <td>3011</td>\n",
       "      <td>11.558247</td>\n",
       "    </tr>\n",
       "    <tr>\n",
       "      <th>11</th>\n",
       "      <td>3012</td>\n",
       "      <td>12.503090</td>\n",
       "    </tr>\n",
       "    <tr>\n",
       "      <th>12</th>\n",
       "      <td>3013</td>\n",
       "      <td>17.500098</td>\n",
       "    </tr>\n",
       "    <tr>\n",
       "      <th>13</th>\n",
       "      <td>3014</td>\n",
       "      <td>12.832507</td>\n",
       "    </tr>\n",
       "    <tr>\n",
       "      <th>14</th>\n",
       "      <td>3015</td>\n",
       "      <td>16.747752</td>\n",
       "    </tr>\n",
       "    <tr>\n",
       "      <th>15</th>\n",
       "      <td>3016</td>\n",
       "      <td>11.558572</td>\n",
       "    </tr>\n",
       "    <tr>\n",
       "      <th>16</th>\n",
       "      <td>3017</td>\n",
       "      <td>18.620612</td>\n",
       "    </tr>\n",
       "    <tr>\n",
       "      <th>17</th>\n",
       "      <td>3018</td>\n",
       "      <td>18.592974</td>\n",
       "    </tr>\n",
       "    <tr>\n",
       "      <th>18</th>\n",
       "      <td>3019</td>\n",
       "      <td>16.098183</td>\n",
       "    </tr>\n",
       "    <tr>\n",
       "      <th>19</th>\n",
       "      <td>3020</td>\n",
       "      <td>20.137824</td>\n",
       "    </tr>\n",
       "    <tr>\n",
       "      <th>20</th>\n",
       "      <td>3021</td>\n",
       "      <td>17.648553</td>\n",
       "    </tr>\n",
       "    <tr>\n",
       "      <th>21</th>\n",
       "      <td>3022</td>\n",
       "      <td>17.289569</td>\n",
       "    </tr>\n",
       "    <tr>\n",
       "      <th>22</th>\n",
       "      <td>3023</td>\n",
       "      <td>11.756337</td>\n",
       "    </tr>\n",
       "    <tr>\n",
       "      <th>23</th>\n",
       "      <td>3024</td>\n",
       "      <td>17.330369</td>\n",
       "    </tr>\n",
       "    <tr>\n",
       "      <th>24</th>\n",
       "      <td>3025</td>\n",
       "      <td>12.182753</td>\n",
       "    </tr>\n",
       "    <tr>\n",
       "      <th>25</th>\n",
       "      <td>3026</td>\n",
       "      <td>18.063386</td>\n",
       "    </tr>\n",
       "    <tr>\n",
       "      <th>26</th>\n",
       "      <td>3027</td>\n",
       "      <td>15.036756</td>\n",
       "    </tr>\n",
       "    <tr>\n",
       "      <th>27</th>\n",
       "      <td>3028</td>\n",
       "      <td>17.987219</td>\n",
       "    </tr>\n",
       "    <tr>\n",
       "      <th>28</th>\n",
       "      <td>3029</td>\n",
       "      <td>12.037301</td>\n",
       "    </tr>\n",
       "    <tr>\n",
       "      <th>29</th>\n",
       "      <td>3030</td>\n",
       "      <td>17.730946</td>\n",
       "    </tr>\n",
       "    <tr>\n",
       "      <th>...</th>\n",
       "      <td>...</td>\n",
       "      <td>...</td>\n",
       "    </tr>\n",
       "    <tr>\n",
       "      <th>4368</th>\n",
       "      <td>7369</td>\n",
       "      <td>16.361185</td>\n",
       "    </tr>\n",
       "    <tr>\n",
       "      <th>4369</th>\n",
       "      <td>7370</td>\n",
       "      <td>17.246862</td>\n",
       "    </tr>\n",
       "    <tr>\n",
       "      <th>4370</th>\n",
       "      <td>7371</td>\n",
       "      <td>12.691707</td>\n",
       "    </tr>\n",
       "    <tr>\n",
       "      <th>4371</th>\n",
       "      <td>7372</td>\n",
       "      <td>18.240262</td>\n",
       "    </tr>\n",
       "    <tr>\n",
       "      <th>4372</th>\n",
       "      <td>7373</td>\n",
       "      <td>19.646425</td>\n",
       "    </tr>\n",
       "    <tr>\n",
       "      <th>4373</th>\n",
       "      <td>7374</td>\n",
       "      <td>17.324658</td>\n",
       "    </tr>\n",
       "    <tr>\n",
       "      <th>4374</th>\n",
       "      <td>7375</td>\n",
       "      <td>17.639958</td>\n",
       "    </tr>\n",
       "    <tr>\n",
       "      <th>4375</th>\n",
       "      <td>7376</td>\n",
       "      <td>13.068929</td>\n",
       "    </tr>\n",
       "    <tr>\n",
       "      <th>4376</th>\n",
       "      <td>7377</td>\n",
       "      <td>16.260285</td>\n",
       "    </tr>\n",
       "    <tr>\n",
       "      <th>4377</th>\n",
       "      <td>7378</td>\n",
       "      <td>17.327357</td>\n",
       "    </tr>\n",
       "    <tr>\n",
       "      <th>4378</th>\n",
       "      <td>7379</td>\n",
       "      <td>18.074548</td>\n",
       "    </tr>\n",
       "    <tr>\n",
       "      <th>4379</th>\n",
       "      <td>7380</td>\n",
       "      <td>13.142895</td>\n",
       "    </tr>\n",
       "    <tr>\n",
       "      <th>4380</th>\n",
       "      <td>7381</td>\n",
       "      <td>13.177930</td>\n",
       "    </tr>\n",
       "    <tr>\n",
       "      <th>4381</th>\n",
       "      <td>7382</td>\n",
       "      <td>15.447106</td>\n",
       "    </tr>\n",
       "    <tr>\n",
       "      <th>4382</th>\n",
       "      <td>7383</td>\n",
       "      <td>12.986533</td>\n",
       "    </tr>\n",
       "    <tr>\n",
       "      <th>4383</th>\n",
       "      <td>7384</td>\n",
       "      <td>15.441611</td>\n",
       "    </tr>\n",
       "    <tr>\n",
       "      <th>4384</th>\n",
       "      <td>7385</td>\n",
       "      <td>17.660778</td>\n",
       "    </tr>\n",
       "    <tr>\n",
       "      <th>4385</th>\n",
       "      <td>7386</td>\n",
       "      <td>16.625751</td>\n",
       "    </tr>\n",
       "    <tr>\n",
       "      <th>4386</th>\n",
       "      <td>7387</td>\n",
       "      <td>14.241655</td>\n",
       "    </tr>\n",
       "    <tr>\n",
       "      <th>4387</th>\n",
       "      <td>7388</td>\n",
       "      <td>13.243170</td>\n",
       "    </tr>\n",
       "    <tr>\n",
       "      <th>4388</th>\n",
       "      <td>7389</td>\n",
       "      <td>12.037053</td>\n",
       "    </tr>\n",
       "    <tr>\n",
       "      <th>4389</th>\n",
       "      <td>7390</td>\n",
       "      <td>10.505104</td>\n",
       "    </tr>\n",
       "    <tr>\n",
       "      <th>4390</th>\n",
       "      <td>7391</td>\n",
       "      <td>15.452056</td>\n",
       "    </tr>\n",
       "    <tr>\n",
       "      <th>4391</th>\n",
       "      <td>7392</td>\n",
       "      <td>15.767379</td>\n",
       "    </tr>\n",
       "    <tr>\n",
       "      <th>4392</th>\n",
       "      <td>7393</td>\n",
       "      <td>20.042345</td>\n",
       "    </tr>\n",
       "    <tr>\n",
       "      <th>4393</th>\n",
       "      <td>7394</td>\n",
       "      <td>18.055038</td>\n",
       "    </tr>\n",
       "    <tr>\n",
       "      <th>4394</th>\n",
       "      <td>7395</td>\n",
       "      <td>17.310220</td>\n",
       "    </tr>\n",
       "    <tr>\n",
       "      <th>4395</th>\n",
       "      <td>7396</td>\n",
       "      <td>17.512771</td>\n",
       "    </tr>\n",
       "    <tr>\n",
       "      <th>4396</th>\n",
       "      <td>7397</td>\n",
       "      <td>15.485772</td>\n",
       "    </tr>\n",
       "    <tr>\n",
       "      <th>4397</th>\n",
       "      <td>7398</td>\n",
       "      <td>14.479555</td>\n",
       "    </tr>\n",
       "  </tbody>\n",
       "</table>\n",
       "<p>4398 rows × 2 columns</p>\n",
       "</div>"
      ],
      "text/plain": [
       "        id    revenue\n",
       "0     3001  14.520053\n",
       "1     3002  13.443628\n",
       "2     3003  15.541743\n",
       "3     3004  14.729365\n",
       "4     3005  12.973732\n",
       "5     3006  13.820456\n",
       "6     3007  14.337491\n",
       "7     3008  17.426410\n",
       "8     3009  16.869522\n",
       "9     3010  19.395320\n",
       "10    3011  11.558247\n",
       "11    3012  12.503090\n",
       "12    3013  17.500098\n",
       "13    3014  12.832507\n",
       "14    3015  16.747752\n",
       "15    3016  11.558572\n",
       "16    3017  18.620612\n",
       "17    3018  18.592974\n",
       "18    3019  16.098183\n",
       "19    3020  20.137824\n",
       "20    3021  17.648553\n",
       "21    3022  17.289569\n",
       "22    3023  11.756337\n",
       "23    3024  17.330369\n",
       "24    3025  12.182753\n",
       "25    3026  18.063386\n",
       "26    3027  15.036756\n",
       "27    3028  17.987219\n",
       "28    3029  12.037301\n",
       "29    3030  17.730946\n",
       "...    ...        ...\n",
       "4368  7369  16.361185\n",
       "4369  7370  17.246862\n",
       "4370  7371  12.691707\n",
       "4371  7372  18.240262\n",
       "4372  7373  19.646425\n",
       "4373  7374  17.324658\n",
       "4374  7375  17.639958\n",
       "4375  7376  13.068929\n",
       "4376  7377  16.260285\n",
       "4377  7378  17.327357\n",
       "4378  7379  18.074548\n",
       "4379  7380  13.142895\n",
       "4380  7381  13.177930\n",
       "4381  7382  15.447106\n",
       "4382  7383  12.986533\n",
       "4383  7384  15.441611\n",
       "4384  7385  17.660778\n",
       "4385  7386  16.625751\n",
       "4386  7387  14.241655\n",
       "4387  7388  13.243170\n",
       "4388  7389  12.037053\n",
       "4389  7390  10.505104\n",
       "4390  7391  15.452056\n",
       "4391  7392  15.767379\n",
       "4392  7393  20.042345\n",
       "4393  7394  18.055038\n",
       "4394  7395  17.310220\n",
       "4395  7396  17.512771\n",
       "4396  7397  15.485772\n",
       "4397  7398  14.479555\n",
       "\n",
       "[4398 rows x 2 columns]"
      ]
     },
     "execution_count": 2003,
     "metadata": {},
     "output_type": "execute_result"
    }
   ],
   "source": [
    "results = train_test_rfr(train_df, test_df, \"revenue\")\n",
    "results = results.rename(columns= {0:\"revenue\"})\n",
    "results"
   ]
  },
  {
   "cell_type": "code",
   "execution_count": 2004,
   "metadata": {},
   "outputs": [],
   "source": [
    "results.to_csv(\"submission.csv\", index = False)"
   ]
  },
  {
   "cell_type": "code",
   "execution_count": null,
   "metadata": {},
   "outputs": [],
   "source": []
  }
 ],
 "metadata": {
  "kernelspec": {
   "display_name": "Python 3",
   "language": "python",
   "name": "python3"
  },
  "language_info": {
   "codemirror_mode": {
    "name": "ipython",
    "version": 3
   },
   "file_extension": ".py",
   "mimetype": "text/x-python",
   "name": "python",
   "nbconvert_exporter": "python",
   "pygments_lexer": "ipython3",
   "version": "3.6.8"
  }
 },
 "nbformat": 4,
 "nbformat_minor": 2
}
